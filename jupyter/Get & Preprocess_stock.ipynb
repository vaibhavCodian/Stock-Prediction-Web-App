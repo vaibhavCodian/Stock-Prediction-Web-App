{
 "cells": [
  {
   "cell_type": "code",
   "execution_count": 24,
   "metadata": {},
   "outputs": [],
   "source": [
    "from pandas_datareader import data\n",
    "import matplotlib.pyplot as plt, mpld3\n",
    "import pandas as pd\n",
    "import datetime\n",
    "# import plotly.graph_objects as go"
   ]
  },
  {
   "cell_type": "markdown",
   "metadata": {},
   "source": [
    "<h1 style=\"color: #5f5fef;\"> Getting Data </h1>\n",
    "\n",
    "#### with ticker"
   ]
  },
  {
   "cell_type": "code",
   "execution_count": 25,
   "metadata": {},
   "outputs": [],
   "source": [
    "# Define the instruments to download. We would like to see Apple, Microsoft and the S&P500 index.\n",
    "tickers = ['AAPL', 'MSFT', '^GSPC']\n",
    "\n",
    "# We would like all available data from 10 month back (approx ~) \n",
    "\n",
    "# end_date = datetime.datetime(2019, 10,19)\n",
    "end_date = datetime.datetime.now()\n",
    "start_date = end_date - datetime.timedelta(days=(30 * 10))\n",
    "\n",
    "# User pandas_reader.data.DataReader to load the desired data. As simple as that.\n",
    "df = data.DataReader('AAPL', 'yahoo', start_date, end_date)"
   ]
  },
  {
   "cell_type": "code",
   "execution_count": 15,
   "metadata": {},
   "outputs": [
    {
     "data": {
      "text/html": [
       "<div>\n",
       "<style scoped>\n",
       "    .dataframe tbody tr th:only-of-type {\n",
       "        vertical-align: middle;\n",
       "    }\n",
       "\n",
       "    .dataframe tbody tr th {\n",
       "        vertical-align: top;\n",
       "    }\n",
       "\n",
       "    .dataframe thead th {\n",
       "        text-align: right;\n",
       "    }\n",
       "</style>\n",
       "<table border=\"1\" class=\"dataframe\">\n",
       "  <thead>\n",
       "    <tr style=\"text-align: right;\">\n",
       "      <th></th>\n",
       "      <th>High</th>\n",
       "      <th>Low</th>\n",
       "      <th>Open</th>\n",
       "      <th>Close</th>\n",
       "      <th>Volume</th>\n",
       "      <th>Adj Close</th>\n",
       "    </tr>\n",
       "    <tr>\n",
       "      <th>Date</th>\n",
       "      <th></th>\n",
       "      <th></th>\n",
       "      <th></th>\n",
       "      <th></th>\n",
       "      <th></th>\n",
       "      <th></th>\n",
       "    </tr>\n",
       "  </thead>\n",
       "  <tbody>\n",
       "    <tr>\n",
       "      <td>2019-07-02</td>\n",
       "      <td>203.130005</td>\n",
       "      <td>201.360001</td>\n",
       "      <td>201.410004</td>\n",
       "      <td>202.729996</td>\n",
       "      <td>16935200.0</td>\n",
       "      <td>200.881363</td>\n",
       "    </tr>\n",
       "    <tr>\n",
       "      <td>2019-07-03</td>\n",
       "      <td>204.440002</td>\n",
       "      <td>202.690002</td>\n",
       "      <td>203.279999</td>\n",
       "      <td>204.410004</td>\n",
       "      <td>11362000.0</td>\n",
       "      <td>202.546051</td>\n",
       "    </tr>\n",
       "    <tr>\n",
       "      <td>2019-07-05</td>\n",
       "      <td>205.080002</td>\n",
       "      <td>202.899994</td>\n",
       "      <td>203.350006</td>\n",
       "      <td>204.229996</td>\n",
       "      <td>17265500.0</td>\n",
       "      <td>202.367676</td>\n",
       "    </tr>\n",
       "    <tr>\n",
       "      <td>2019-07-08</td>\n",
       "      <td>201.399994</td>\n",
       "      <td>198.410004</td>\n",
       "      <td>200.809998</td>\n",
       "      <td>200.020004</td>\n",
       "      <td>25338600.0</td>\n",
       "      <td>198.196075</td>\n",
       "    </tr>\n",
       "    <tr>\n",
       "      <td>2019-07-09</td>\n",
       "      <td>201.509995</td>\n",
       "      <td>198.809998</td>\n",
       "      <td>199.199997</td>\n",
       "      <td>201.240005</td>\n",
       "      <td>20578000.0</td>\n",
       "      <td>199.404968</td>\n",
       "    </tr>\n",
       "    <tr>\n",
       "      <td>...</td>\n",
       "      <td>...</td>\n",
       "      <td>...</td>\n",
       "      <td>...</td>\n",
       "      <td>...</td>\n",
       "      <td>...</td>\n",
       "      <td>...</td>\n",
       "    </tr>\n",
       "    <tr>\n",
       "      <td>2020-04-21</td>\n",
       "      <td>277.250000</td>\n",
       "      <td>265.429993</td>\n",
       "      <td>276.279999</td>\n",
       "      <td>268.369995</td>\n",
       "      <td>45247900.0</td>\n",
       "      <td>268.369995</td>\n",
       "    </tr>\n",
       "    <tr>\n",
       "      <td>2020-04-22</td>\n",
       "      <td>277.899994</td>\n",
       "      <td>272.200012</td>\n",
       "      <td>273.609985</td>\n",
       "      <td>276.100006</td>\n",
       "      <td>29264300.0</td>\n",
       "      <td>276.100006</td>\n",
       "    </tr>\n",
       "    <tr>\n",
       "      <td>2020-04-23</td>\n",
       "      <td>281.750000</td>\n",
       "      <td>274.869995</td>\n",
       "      <td>275.869995</td>\n",
       "      <td>275.029999</td>\n",
       "      <td>31203600.0</td>\n",
       "      <td>275.029999</td>\n",
       "    </tr>\n",
       "    <tr>\n",
       "      <td>2020-04-24</td>\n",
       "      <td>283.010010</td>\n",
       "      <td>277.000000</td>\n",
       "      <td>277.200012</td>\n",
       "      <td>282.970001</td>\n",
       "      <td>31540300.0</td>\n",
       "      <td>282.970001</td>\n",
       "    </tr>\n",
       "    <tr>\n",
       "      <td>2020-04-27</td>\n",
       "      <td>284.540009</td>\n",
       "      <td>279.950012</td>\n",
       "      <td>281.799988</td>\n",
       "      <td>282.920013</td>\n",
       "      <td>13920258.0</td>\n",
       "      <td>282.920013</td>\n",
       "    </tr>\n",
       "  </tbody>\n",
       "</table>\n",
       "<p>207 rows × 6 columns</p>\n",
       "</div>"
      ],
      "text/plain": [
       "                  High         Low        Open       Close      Volume  \\\n",
       "Date                                                                     \n",
       "2019-07-02  203.130005  201.360001  201.410004  202.729996  16935200.0   \n",
       "2019-07-03  204.440002  202.690002  203.279999  204.410004  11362000.0   \n",
       "2019-07-05  205.080002  202.899994  203.350006  204.229996  17265500.0   \n",
       "2019-07-08  201.399994  198.410004  200.809998  200.020004  25338600.0   \n",
       "2019-07-09  201.509995  198.809998  199.199997  201.240005  20578000.0   \n",
       "...                ...         ...         ...         ...         ...   \n",
       "2020-04-21  277.250000  265.429993  276.279999  268.369995  45247900.0   \n",
       "2020-04-22  277.899994  272.200012  273.609985  276.100006  29264300.0   \n",
       "2020-04-23  281.750000  274.869995  275.869995  275.029999  31203600.0   \n",
       "2020-04-24  283.010010  277.000000  277.200012  282.970001  31540300.0   \n",
       "2020-04-27  284.540009  279.950012  281.799988  282.920013  13920258.0   \n",
       "\n",
       "             Adj Close  \n",
       "Date                    \n",
       "2019-07-02  200.881363  \n",
       "2019-07-03  202.546051  \n",
       "2019-07-05  202.367676  \n",
       "2019-07-08  198.196075  \n",
       "2019-07-09  199.404968  \n",
       "...                ...  \n",
       "2020-04-21  268.369995  \n",
       "2020-04-22  276.100006  \n",
       "2020-04-23  275.029999  \n",
       "2020-04-24  282.970001  \n",
       "2020-04-27  282.920013  \n",
       "\n",
       "[207 rows x 6 columns]"
      ]
     },
     "execution_count": 15,
     "metadata": {},
     "output_type": "execute_result"
    }
   ],
   "source": [
    "# Testing Area: ->\n",
    "\n",
    "df\n",
    "# df.shape"
   ]
  },
  {
   "cell_type": "markdown",
   "metadata": {},
   "source": [
    "<h3 style=\"color: #0fcf5f;\"> Setting Values </h1>\n",
    "\n",
    "### adj close  & mvg avg"
   ]
  },
  {
   "cell_type": "markdown",
   "metadata": {},
   "source": [
    "## Explain:\n",
    "the best thing with pandas is that it already comes pre packaged with common operation you might wanna do with the data.\n",
    "\n",
    "##### moving avg\n",
    "its just a way to smooth out price over time. so as a result it will help us understand UP tren or a down trend\n",
    "\n",
    "So,  it takes todays price and 99 of prio day prices creates an average of those. thats todays moving average"
   ]
  },
  {
   "cell_type": "code",
   "execution_count": 16,
   "metadata": {},
   "outputs": [],
   "source": [
    "close = df['Close']\n",
    "close_px = df['Adj Close']\n",
    "mavg = close_px.rolling(window=100).mean()\n",
    "# all_weekdays = pd.date_range(start=start_date, end=end_date, freq='B')\n",
    "# close = close.reindex(all_weekdays)\n",
    "# close = close.fillna(method='ffill')"
   ]
  },
  {
   "cell_type": "code",
   "execution_count": 33,
   "metadata": {},
   "outputs": [
    {
     "data": {
      "text/plain": [
       "Date\n",
       "2019-07-02           NaN\n",
       "2019-07-03           NaN\n",
       "2019-07-05           NaN\n",
       "2019-07-08           NaN\n",
       "2019-07-09           NaN\n",
       "                 ...    \n",
       "2019-11-14           NaN\n",
       "2019-11-15           NaN\n",
       "2019-11-18           NaN\n",
       "2019-11-19           NaN\n",
       "2019-11-20    221.225786\n",
       "Name: Adj Close, Length: 100, dtype: float64"
      ]
     },
     "execution_count": 33,
     "metadata": {},
     "output_type": "execute_result"
    }
   ],
   "source": [
    "# close_px.head(10)\n",
    "\n",
    "# mavg.head(100) # <-- so the first 99 of the data are nana "
   ]
  },
  {
   "cell_type": "code",
   "execution_count": 20,
   "metadata": {},
   "outputs": [
    {
     "data": {
      "text/plain": [
       "['bmh',\n",
       " 'classic',\n",
       " 'dark_background',\n",
       " 'seaborn',\n",
       " 'seaborn-talk',\n",
       " 'seaborn-dark-palette',\n",
       " '_classic_test',\n",
       " 'seaborn-dark',\n",
       " 'seaborn-muted',\n",
       " 'seaborn-poster',\n",
       " 'seaborn-darkgrid',\n",
       " 'seaborn-pastel',\n",
       " 'seaborn-deep',\n",
       " 'fivethirtyeight',\n",
       " 'seaborn-colorblind',\n",
       " 'Solarize_Light2',\n",
       " 'seaborn-white',\n",
       " 'grayscale',\n",
       " 'seaborn-bright',\n",
       " 'seaborn-notebook',\n",
       " 'ggplot',\n",
       " 'fast',\n",
       " 'seaborn-paper',\n",
       " 'tableau-colorblind10',\n",
       " 'seaborn-ticks',\n",
       " 'seaborn-whitegrid']"
      ]
     },
     "execution_count": 20,
     "metadata": {},
     "output_type": "execute_result"
    }
   ],
   "source": [
    "plt.style.available"
   ]
  },
  {
   "cell_type": "markdown",
   "metadata": {},
   "source": [
    "<h1 style=\"color: #0f2f1f;\">Visualizing</h1>\n",
    "\n",
    "### adj close with mvg avg"
   ]
  },
  {
   "cell_type": "code",
   "execution_count": 23,
   "metadata": {},
   "outputs": [
    {
     "data": {
      "text/plain": [
       "<matplotlib.legend.Legend at 0x7f2d5dd46090>"
      ]
     },
     "execution_count": 23,
     "metadata": {},
     "output_type": "execute_result"
    },
    {
     "data": {
      "image/png": "[encoded data removed]",
      "text/plain": [
       "<Figure size 576x504 with 1 Axes>"
      ]
     },
     "metadata": {
      "needs_background": "light"
     },
     "output_type": "display_data"
    }
   ],
   "source": [
    "%matplotlib inline\n",
    "import matplotlib.pyplot as plt\n",
    "from matplotlib import style\n",
    "\n",
    "# Adjusting the size of matplotlib\n",
    "import matplotlib as mpl\n",
    "mpl.rc('figure', figsize=(8, 7))\n",
    "mpl.__version__\n",
    "\n",
    "# Adjusting the style of matplotlib\n",
    "# style.use('seaborn-dark')\n",
    "plt.tight_layout()\n",
    "plt.style.use(['fast', 'seaborn-muted'])\n",
    "\n",
    "\n",
    "close_px.plot(label='AAPL')\n",
    "mavg.plot(label='mavg')\n",
    "plt.legend()\n",
    "# mpld3.display()"
   ]
  },
  {
   "cell_type": "markdown",
   "metadata": {},
   "source": []
  },
  {
   "cell_type": "code",
   "execution_count": 53,
   "metadata": {},
   "outputs": [
    {
     "data": {
      "text/html": [
       "\n",
       "\n",
       "<style>\n",
       "\n",
       "</style>\n",
       "\n",
       "<div id=\"fig_el133531402460680832809396061628\"></div>\n",
       "<script>\n",
       "function mpld3_load_lib(url, callback){\n",
       "  var s = document.createElement('script');\n",
       "  s.src = url;\n",
       "  s.async = true;\n",
       "  s.onreadystatechange = s.onload = callback;\n",
       "  s.onerror = function(){console.warn(\"failed to load library \" + url);};\n",
       "  document.getElementsByTagName(\"head\")[0].appendChild(s);\n",
       "}\n",
       "\n",
       "if(typeof(mpld3) !== \"undefined\" && mpld3._mpld3IsLoaded){\n",
       "   // already loaded: just create the figure\n",
       "   !function(mpld3){\n",
       "       \n",
       "       mpld3.draw_figure(\"fig_el133531402460680832809396061628\", {\"width\": 576.0, \"height\": 504.0, \"axes\": [{\"bbox\": [0.125, 0.125, 0.775, 0.755], \"xlim\": [737227.15, 737553.85], \"ylim\": [184.79582901000975, 333.9811637878418], \"xdomain\": [[2019, 5, 17, 3, 36, 0, 0.0], [2020, 4, 8, 20, 24, 0, 0.0]], \"ydomain\": [184.79582901000975, 333.9811637878418], \"xscale\": \"date\", \"yscale\": \"linear\", \"axes\": [{\"position\": \"bottom\", \"nticks\": 11, \"tickvalues\": null, \"tickformat\": null, \"scale\": \"linear\", \"fontsize\": 10.0, \"grid\": {\"gridOn\": false}, \"visible\": true}, {\"position\": \"left\", \"nticks\": 9, \"tickvalues\": null, \"tickformat\": null, \"scale\": \"linear\", \"fontsize\": 10.0, \"grid\": {\"gridOn\": false}, \"visible\": true}], \"axesbg\": \"#FFFFFF\", \"axesbgalpha\": null, \"zoomable\": true, \"id\": \"el13353140246067667728\", \"lines\": [{\"data\": \"data01\", \"xindex\": 0, \"yindex\": 1, \"coordinates\": \"data\", \"id\": \"el13353140246067688400\", \"color\": \"#4878CF\", \"linewidth\": 1.5, \"dasharray\": \"none\", \"alpha\": 1, \"zorder\": 2, \"drawstyle\": \"default\"}, {\"data\": \"data01\", \"xindex\": 0, \"yindex\": 2, \"coordinates\": \"data\", \"id\": \"el13353140246067832656\", \"color\": \"#6ACC65\", \"linewidth\": 1.5, \"dasharray\": \"none\", \"alpha\": 1, \"zorder\": 2, \"drawstyle\": \"default\"}, {\"data\": \"data02\", \"xindex\": 0, \"yindex\": 1, \"coordinates\": \"axes\", \"id\": \"el13353140246067867920\", \"color\": \"#4878CF\", \"linewidth\": 1.5, \"dasharray\": \"none\", \"alpha\": 1, \"zorder\": 2000002.0, \"drawstyle\": \"default\"}, {\"data\": \"data02\", \"xindex\": 0, \"yindex\": 2, \"coordinates\": \"axes\", \"id\": \"el13353140246067867856\", \"color\": \"#6ACC65\", \"linewidth\": 1.5, \"dasharray\": \"none\", \"alpha\": 1, \"zorder\": 2000002.0, \"drawstyle\": \"default\"}], \"paths\": [{\"data\": \"data03\", \"xindex\": 0, \"yindex\": 1, \"coordinates\": \"axes\", \"pathcodes\": [\"M\", \"L\", \"S\", \"L\", \"S\", \"L\", \"S\", \"L\", \"S\", \"Z\"], \"id\": \"el13353140246067833744\", \"dasharray\": \"none\", \"alpha\": 0.8, \"facecolor\": \"#FFFFFF\", \"edgecolor\": \"#CCCCCC\", \"edgewidth\": 1.0, \"zorder\": 1999999.0}], \"markers\": [], \"texts\": [{\"text\": \"AAPL\", \"position\": [0.9059139784946239, 0.9553242930726373], \"coordinates\": \"axes\", \"h_anchor\": \"start\", \"v_baseline\": \"auto\", \"rotation\": -0.0, \"fontsize\": 10.0, \"color\": \"#000000\", \"alpha\": 1, \"zorder\": 2000003.0, \"id\": \"el13353140246067834512\"}, {\"text\": \"m_avg\", \"position\": [0.9059139784946239, 0.915904551666141], \"coordinates\": \"axes\", \"h_anchor\": \"start\", \"v_baseline\": \"auto\", \"rotation\": -0.0, \"fontsize\": 10.0, \"color\": \"#000000\", \"alpha\": 1, \"zorder\": 2000003.0, \"id\": \"el13353140246067869200\"}], \"collections\": [], \"images\": [], \"sharex\": [], \"sharey\": []}], \"data\": {\"data01\": [[737242.0, 200.88136291503906, NaN], [737243.0, 202.54605102539062, NaN], [737245.0, 202.36767578125, NaN], [737248.0, 198.19607543945312, NaN], [737249.0, 199.40496826171875, NaN], [737250.0, 201.37681579589844, NaN], [737251.0, 199.91030883789062, NaN], [737252.0, 201.44618225097656, NaN], [737255.0, 203.33876037597656, NaN], [737256.0, 202.63522338867188, NaN], [737257.0, 201.49571228027344, NaN], [737258.0, 203.78465270996094, NaN], [737259.0, 200.74264526367188, NaN], [737262.0, 205.33042907714844, NaN], [737263.0, 206.93563842773438, NaN], [737264.0, 206.7672119140625, NaN], [737265.0, 205.13226318359375, NaN], [737266.0, 205.84568786621094, NaN], [737269.0, 207.7679901123047, NaN], [737270.0, 206.87619018554688, NaN], [737271.0, 211.0973663330078, NaN], [737272.0, 206.5293731689453, NaN], [737273.0, 202.15960693359375, NaN], [737276.0, 191.5769805908203, NaN], [737277.0, 195.20361328125, NaN], [737278.0, 197.22500610351562, NaN], [737279.0, 201.57498168945312, NaN], [737280.0, 199.91392517089844, NaN], [737283.0, 199.40664672851562, NaN], [737284.0, 207.85121154785156, NaN], [737285.0, 201.6645050048828, NaN], [737286.0, 200.659912109375, NaN], [737287.0, 205.39442443847656, NaN], [737290.0, 209.22381591796875, NaN], [737291.0, 209.2337646484375, NaN], [737292.0, 211.50155639648438, NaN], [737293.0, 211.32252502441406, NaN], [737294.0, 201.5550994873047, NaN], [737297.0, 205.3844757080078, NaN], [737298.0, 203.06695556640625, NaN], [737299.0, 204.42962646484375, NaN], [737300.0, 207.89097595214844, NaN], [737301.0, 207.6224365234375, NaN], [737305.0, 204.59869384765625, NaN], [737306.0, 208.07003784179688, NaN], [737307.0, 212.13812255859375, NaN], [737308.0, 212.11822509765625, NaN], [737311.0, 213.0233612060547, NaN], [737312.0, 215.53981018066406, NaN], [737313.0, 222.39292907714844, NaN], [737314.0, 221.89559936523438, NaN], [737315.0, 217.57884216308594, NaN], [737318.0, 218.72268676757812, NaN], [737319.0, 219.51840209960938, NaN], [737320.0, 221.57733154296875, NaN], [737321.0, 219.7770233154297, NaN], [737322.0, 216.5642852783203, NaN], [737325.0, 217.5489959716797, NaN], [737326.0, 216.51455688476562, NaN], [737327.0, 219.8466339111328, NaN], [737328.0, 218.71273803710938, NaN], [737329.0, 217.6484832763672, NaN], [737332.0, 222.77088928222656, NaN], [737333.0, 223.3875732421875, NaN], [737334.0, 217.7877197265625, NaN], [737335.0, 219.63775634765625, NaN], [737336.0, 225.79461669921875, NaN], [737339.0, 225.84434509277344, NaN], [737340.0, 223.19859313964844, NaN], [737341.0, 225.81451416015625, NaN], [737342.0, 228.85812377929688, NaN], [737343.0, 234.9453582763672, NaN], [737346.0, 234.607177734375, NaN], [737347.0, 234.0601348876953, NaN], [737348.0, 233.11520385742188, NaN], [737349.0, 234.0203399658203, NaN], [737350.0, 235.14430236816406, NaN], [737353.0, 239.2223358154297, NaN], [737354.0, 238.67529296875, NaN], [737355.0, 241.87803649902344, NaN], [737356.0, 242.27589416503906, NaN], [737357.0, 245.2598419189453, NaN], [737360.0, 247.71661376953125, NaN], [737361.0, 241.98744201660156, NaN], [737362.0, 241.95761108398438, NaN], [737363.0, 247.42816162109375, NaN], [737364.0, 254.45037841796875, NaN], [737367.0, 256.1213684082031, NaN], [737368.0, 255.7533721923828, NaN], [737369.0, 255.86276245117188, NaN], [737370.0, 258.81573486328125, NaN], [737371.0, 259.5240783691406, NaN], [737374.0, 261.5791931152344, NaN], [737375.0, 261.3397521972656, NaN], [737376.0, 263.84381103515625, NaN], [737377.0, 262.0181579589844, NaN], [737378.0, 265.1307678222656, NaN], [737381.0, 266.46759033203125, NaN], [737382.0, 265.6595153808594, NaN], [737383.0, 262.5668640136719, 221.2257861328125], [737384.0, 261.3896484375, 221.8308689880371], [737385.0, 261.1601867675781, 222.41701034545898], [737388.0, 265.73931884765625, 223.05072677612304], [737389.0, 263.66424560546875, 223.7054084777832], [737390.0, 267.2058410644531, 224.38341720581056], [737392.0, 266.61724853515625, 225.03582153320312], [737395.0, 263.5345458984375, 225.6720639038086], [737396.0, 258.8357238769531, 226.24595932006835], [737397.0, 261.1202697753906, 226.8237744140625], [737398.0, 264.951171875, 227.44693389892578], [737399.0, 270.06903076171875, 228.13266708374024], [737402.0, 266.28802490234375, 228.75770080566406], [737403.0, 267.8443298339844, 229.42871765136718], [737404.0, 270.12890625, 230.0767024230957], [737405.0, 270.8172607421875, 230.71551864624024], [737406.0, 274.49853515625, 231.39283187866212], [737409.0, 279.1973571777344, 232.1334828186035], [737410.0, 279.74609375, 232.87248687744142], [737411.0, 279.0776672363281, 233.58558364868165], [737412.0, 279.35699462890625, 234.31039169311524], [737413.0, 278.77838134765625, 234.98720184326172], [737416.0, 283.32757568359375, 235.7551838684082], [737417.0, 283.596923828125, 236.56955703735352], [737419.0, 289.2236022949219, 237.54602325439453], [737420.0, 289.11383056640625, 238.4851254272461], [737423.0, 290.82977294921875, 239.42117309570312], [737424.0, 292.9547119140625, 240.3349703979492], [737426.0, 299.6388854980469, 241.3322200012207], [737427.0, 296.72576904296875, 242.30541122436523], [737430.0, 299.09014892578125, 243.21780059814452], [737431.0, 297.68353271484375, 244.17799087524415], [737432.0, 302.4721374511719, 245.19611312866212], [737433.0, 308.89691162109375, 246.23113800048827], [737434.0, 309.59521484375, 247.2348519897461], [737437.0, 316.20953369140625, 248.3046096801758], [737438.0, 311.9396667480469, 249.3089907836914], [737439.0, 310.60284423828125, 250.30179397583007], [737440.0, 314.49359130859375, 251.43117889404297], [737441.0, 317.9753723144531, 252.55708786010743], [737445.0, 315.8204650878906, 253.68462295532225], [737446.0, 316.94781494140625, 254.80980484008788], [737447.0, 318.47418212890625, 255.91563690185546], [737448.0, 317.55633544921875, 257.0149758911133], [737451.0, 308.218505859375, 258.05117401123044], [737452.0, 316.93780517578125, 259.1398516845703], [737453.0, 323.5720520019531, 260.2541909790039], [737454.0, 323.1031799316406, 261.3640405273438], [737455.0, 308.7771911621094, 262.3215788269043], [737458.0, 307.92919921875, 263.24547271728517], [737459.0, 318.0950622558594, 264.20249404907224], [737460.0, 320.6889343261719, 265.19042739868166], [737461.0, 324.44000244140625, 266.2590390014648], [737462.0, 320.0299987792969, 267.27211212158204], [737465.0, 321.54998779296875, 268.2924279785156], [737466.0, 319.6099853515625, 269.27275451660154], [737467.0, 327.20001220703125, 270.34698440551756], [737468.0, 324.8699951171875, 271.43004150390624], [737469.0, 324.95001220703125, 272.5040516662598], [737473.0, 319.0, 273.5289060974121], [737474.0, 323.6199951171875, 274.56663970947267], [737475.0, 320.29998779296875, 275.58251220703124], [737476.0, 313.04998779296875, 276.5365272521973], [737479.0, 298.17999267578125, 277.2906182861328], [737480.0, 288.0799865722656, 277.9375424194336], [737481.0, 292.6499938964844, 278.6861651611328], [737482.0, 273.5199890136719, 279.224987487793], [737483.0, 273.3599853515625, 279.7006411743164], [737486.0, 298.80999755859375, 280.4302976989746], [737487.0, 289.32000732421875, 281.0915118408203], [737488.0, 302.739990234375, 281.8607666015625], [737489.0, 292.9200134277344, 282.5013854980469], [737490.0, 289.0299987792969, 283.0422319030762], [737493.0, 266.1700134277344, 283.3578602600098], [737494.0, 285.3399963378906, 283.8706588745117], [737495.0, 275.42999267578125, 284.29380676269534], [737496.0, 248.22999572753906, 284.4359033203125], [737497.0, 277.9700012207031, 284.8641603088379], [737500.0, 242.2100067138672, 284.89403701782226], [737501.0, 252.86000061035156, 285.03588409423827], [737502.0, 246.6699981689453, 285.0838037109375], [737503.0, 244.77999877929688, 285.1088447570801], [737504.0, 229.24000549316406, 284.94864639282224], [737507.0, 224.3699951171875, 284.71518020629884], [737508.0, 246.8800048828125, 284.76410583496096], [737509.0, 245.52000427246094, 284.7997297668457], [737510.0, 258.44000244140625, 284.9098481750488], [737511.0, 247.74000549316406, 284.8427444458008], [737514.0, 254.80999755859375, 284.8296307373047], [737515.0, 254.2899932861328, 284.8149969482422], [737516.0, 240.91000366210938, 284.66546936035155], [737517.0, 244.92999267578125, 284.52661193847655], [737518.0, 241.41000366210938, 284.34547119140626], [737521.0, 262.4700012207031, 284.35437927246096], [737522.0, 259.42999267578125, 284.3352816772461], [737523.0, 266.07000732421875, 284.3575436401367], [737524.0, 267.989990234375, 284.4172619628906], [737528.0, 273.25, 284.49845428466796], [737529.0, 287.04998779296875, 284.7042782592773], [737530.0, 284.42999267578125, 284.89198303222656], [737531.0, 286.69000244140625, 285.1332144165039], [737532.0, 282.79998779296875, 285.3473178100586], [737535.0, 276.92999267578125, 285.5050158691406], [737536.0, 268.3699951171875, 285.53132263183596], [737537.0, 276.1000061035156, 285.6556802368164], [737538.0, 275.0299987792969, 285.73392181396486], [737539.0, 282.9700012207031, 285.8974493408203]], \"data02\": [[0.8431899641577062, 0.9645222327341532, 0.9251024913276569], [0.8879928315412188, 0.9645222327341532, 0.9251024913276569]], \"data03\": [[0.8387096774193549, 0.8977550457269001], [0.9843189964157707, 0.8977550457269001], [0.988799283154122, 0.8977550457269001], [0.988799283154122, 0.9030110112477663], [0.988799283154122, 0.9816041206769683], [0.988799283154122, 0.9868600861978345], [0.9843189964157707, 0.9868600861978345], [0.8387096774193549, 0.9868600861978345], [0.8342293906810037, 0.9868600861978345], [0.8342293906810037, 0.9816041206769683], [0.8342293906810037, 0.9030110112477663], [0.8342293906810037, 0.8977550457269001], [0.8387096774193549, 0.8977550457269001]]}, \"id\": \"el13353140246068083280\", \"plugins\": [{\"type\": \"reset\"}, {\"type\": \"zoom\", \"button\": true, \"enabled\": false}, {\"type\": \"boxzoom\", \"button\": true, \"enabled\": false}]});\n",
       "   }(mpld3);\n",
       "}else if(typeof define === \"function\" && define.amd){\n",
       "   // require.js is available: use it to load d3/mpld3\n",
       "   require.config({paths: {d3: \"https://mpld3.github.io/js/d3.v3.min\"}});\n",
       "   require([\"d3\"], function(d3){\n",
       "      window.d3 = d3;\n",
       "      mpld3_load_lib(\"https://mpld3.github.io/js/mpld3.v0.3.js\", function(){\n",
       "         \n",
       "         mpld3.draw_figure(\"fig_el133531402460680832809396061628\", {\"width\": 576.0, \"height\": 504.0, \"axes\": [{\"bbox\": [0.125, 0.125, 0.775, 0.755], \"xlim\": [737227.15, 737553.85], \"ylim\": [184.79582901000975, 333.9811637878418], \"xdomain\": [[2019, 5, 17, 3, 36, 0, 0.0], [2020, 4, 8, 20, 24, 0, 0.0]], \"ydomain\": [184.79582901000975, 333.9811637878418], \"xscale\": \"date\", \"yscale\": \"linear\", \"axes\": [{\"position\": \"bottom\", \"nticks\": 11, \"tickvalues\": null, \"tickformat\": null, \"scale\": \"linear\", \"fontsize\": 10.0, \"grid\": {\"gridOn\": false}, \"visible\": true}, {\"position\": \"left\", \"nticks\": 9, \"tickvalues\": null, \"tickformat\": null, \"scale\": \"linear\", \"fontsize\": 10.0, \"grid\": {\"gridOn\": false}, \"visible\": true}], \"axesbg\": \"#FFFFFF\", \"axesbgalpha\": null, \"zoomable\": true, \"id\": \"el13353140246067667728\", \"lines\": [{\"data\": \"data01\", \"xindex\": 0, \"yindex\": 1, \"coordinates\": \"data\", \"id\": \"el13353140246067688400\", \"color\": \"#4878CF\", \"linewidth\": 1.5, \"dasharray\": \"none\", \"alpha\": 1, \"zorder\": 2, \"drawstyle\": \"default\"}, {\"data\": \"data01\", \"xindex\": 0, \"yindex\": 2, \"coordinates\": \"data\", \"id\": \"el13353140246067832656\", \"color\": \"#6ACC65\", \"linewidth\": 1.5, \"dasharray\": \"none\", \"alpha\": 1, \"zorder\": 2, \"drawstyle\": \"default\"}, {\"data\": \"data02\", \"xindex\": 0, \"yindex\": 1, \"coordinates\": \"axes\", \"id\": \"el13353140246067867920\", \"color\": \"#4878CF\", \"linewidth\": 1.5, \"dasharray\": \"none\", \"alpha\": 1, \"zorder\": 2000002.0, \"drawstyle\": \"default\"}, {\"data\": \"data02\", \"xindex\": 0, \"yindex\": 2, \"coordinates\": \"axes\", \"id\": \"el13353140246067867856\", \"color\": \"#6ACC65\", \"linewidth\": 1.5, \"dasharray\": \"none\", \"alpha\": 1, \"zorder\": 2000002.0, \"drawstyle\": \"default\"}], \"paths\": [{\"data\": \"data03\", \"xindex\": 0, \"yindex\": 1, \"coordinates\": \"axes\", \"pathcodes\": [\"M\", \"L\", \"S\", \"L\", \"S\", \"L\", \"S\", \"L\", \"S\", \"Z\"], \"id\": \"el13353140246067833744\", \"dasharray\": \"none\", \"alpha\": 0.8, \"facecolor\": \"#FFFFFF\", \"edgecolor\": \"#CCCCCC\", \"edgewidth\": 1.0, \"zorder\": 1999999.0}], \"markers\": [], \"texts\": [{\"text\": \"AAPL\", \"position\": [0.9059139784946239, 0.9553242930726373], \"coordinates\": \"axes\", \"h_anchor\": \"start\", \"v_baseline\": \"auto\", \"rotation\": -0.0, \"fontsize\": 10.0, \"color\": \"#000000\", \"alpha\": 1, \"zorder\": 2000003.0, \"id\": \"el13353140246067834512\"}, {\"text\": \"m_avg\", \"position\": [0.9059139784946239, 0.915904551666141], \"coordinates\": \"axes\", \"h_anchor\": \"start\", \"v_baseline\": \"auto\", \"rotation\": -0.0, \"fontsize\": 10.0, \"color\": \"#000000\", \"alpha\": 1, \"zorder\": 2000003.0, \"id\": \"el13353140246067869200\"}], \"collections\": [], \"images\": [], \"sharex\": [], \"sharey\": []}], \"data\": {\"data01\": [[737242.0, 200.88136291503906, NaN], [737243.0, 202.54605102539062, NaN], [737245.0, 202.36767578125, NaN], [737248.0, 198.19607543945312, NaN], [737249.0, 199.40496826171875, NaN], [737250.0, 201.37681579589844, NaN], [737251.0, 199.91030883789062, NaN], [737252.0, 201.44618225097656, NaN], [737255.0, 203.33876037597656, NaN], [737256.0, 202.63522338867188, NaN], [737257.0, 201.49571228027344, NaN], [737258.0, 203.78465270996094, NaN], [737259.0, 200.74264526367188, NaN], [737262.0, 205.33042907714844, NaN], [737263.0, 206.93563842773438, NaN], [737264.0, 206.7672119140625, NaN], [737265.0, 205.13226318359375, NaN], [737266.0, 205.84568786621094, NaN], [737269.0, 207.7679901123047, NaN], [737270.0, 206.87619018554688, NaN], [737271.0, 211.0973663330078, NaN], [737272.0, 206.5293731689453, NaN], [737273.0, 202.15960693359375, NaN], [737276.0, 191.5769805908203, NaN], [737277.0, 195.20361328125, NaN], [737278.0, 197.22500610351562, NaN], [737279.0, 201.57498168945312, NaN], [737280.0, 199.91392517089844, NaN], [737283.0, 199.40664672851562, NaN], [737284.0, 207.85121154785156, NaN], [737285.0, 201.6645050048828, NaN], [737286.0, 200.659912109375, NaN], [737287.0, 205.39442443847656, NaN], [737290.0, 209.22381591796875, NaN], [737291.0, 209.2337646484375, NaN], [737292.0, 211.50155639648438, NaN], [737293.0, 211.32252502441406, NaN], [737294.0, 201.5550994873047, NaN], [737297.0, 205.3844757080078, NaN], [737298.0, 203.06695556640625, NaN], [737299.0, 204.42962646484375, NaN], [737300.0, 207.89097595214844, NaN], [737301.0, 207.6224365234375, NaN], [737305.0, 204.59869384765625, NaN], [737306.0, 208.07003784179688, NaN], [737307.0, 212.13812255859375, NaN], [737308.0, 212.11822509765625, NaN], [737311.0, 213.0233612060547, NaN], [737312.0, 215.53981018066406, NaN], [737313.0, 222.39292907714844, NaN], [737314.0, 221.89559936523438, NaN], [737315.0, 217.57884216308594, NaN], [737318.0, 218.72268676757812, NaN], [737319.0, 219.51840209960938, NaN], [737320.0, 221.57733154296875, NaN], [737321.0, 219.7770233154297, NaN], [737322.0, 216.5642852783203, NaN], [737325.0, 217.5489959716797, NaN], [737326.0, 216.51455688476562, NaN], [737327.0, 219.8466339111328, NaN], [737328.0, 218.71273803710938, NaN], [737329.0, 217.6484832763672, NaN], [737332.0, 222.77088928222656, NaN], [737333.0, 223.3875732421875, NaN], [737334.0, 217.7877197265625, NaN], [737335.0, 219.63775634765625, NaN], [737336.0, 225.79461669921875, NaN], [737339.0, 225.84434509277344, NaN], [737340.0, 223.19859313964844, NaN], [737341.0, 225.81451416015625, NaN], [737342.0, 228.85812377929688, NaN], [737343.0, 234.9453582763672, NaN], [737346.0, 234.607177734375, NaN], [737347.0, 234.0601348876953, NaN], [737348.0, 233.11520385742188, NaN], [737349.0, 234.0203399658203, NaN], [737350.0, 235.14430236816406, NaN], [737353.0, 239.2223358154297, NaN], [737354.0, 238.67529296875, NaN], [737355.0, 241.87803649902344, NaN], [737356.0, 242.27589416503906, NaN], [737357.0, 245.2598419189453, NaN], [737360.0, 247.71661376953125, NaN], [737361.0, 241.98744201660156, NaN], [737362.0, 241.95761108398438, NaN], [737363.0, 247.42816162109375, NaN], [737364.0, 254.45037841796875, NaN], [737367.0, 256.1213684082031, NaN], [737368.0, 255.7533721923828, NaN], [737369.0, 255.86276245117188, NaN], [737370.0, 258.81573486328125, NaN], [737371.0, 259.5240783691406, NaN], [737374.0, 261.5791931152344, NaN], [737375.0, 261.3397521972656, NaN], [737376.0, 263.84381103515625, NaN], [737377.0, 262.0181579589844, NaN], [737378.0, 265.1307678222656, NaN], [737381.0, 266.46759033203125, NaN], [737382.0, 265.6595153808594, NaN], [737383.0, 262.5668640136719, 221.2257861328125], [737384.0, 261.3896484375, 221.8308689880371], [737385.0, 261.1601867675781, 222.41701034545898], [737388.0, 265.73931884765625, 223.05072677612304], [737389.0, 263.66424560546875, 223.7054084777832], [737390.0, 267.2058410644531, 224.38341720581056], [737392.0, 266.61724853515625, 225.03582153320312], [737395.0, 263.5345458984375, 225.6720639038086], [737396.0, 258.8357238769531, 226.24595932006835], [737397.0, 261.1202697753906, 226.8237744140625], [737398.0, 264.951171875, 227.44693389892578], [737399.0, 270.06903076171875, 228.13266708374024], [737402.0, 266.28802490234375, 228.75770080566406], [737403.0, 267.8443298339844, 229.42871765136718], [737404.0, 270.12890625, 230.0767024230957], [737405.0, 270.8172607421875, 230.71551864624024], [737406.0, 274.49853515625, 231.39283187866212], [737409.0, 279.1973571777344, 232.1334828186035], [737410.0, 279.74609375, 232.87248687744142], [737411.0, 279.0776672363281, 233.58558364868165], [737412.0, 279.35699462890625, 234.31039169311524], [737413.0, 278.77838134765625, 234.98720184326172], [737416.0, 283.32757568359375, 235.7551838684082], [737417.0, 283.596923828125, 236.56955703735352], [737419.0, 289.2236022949219, 237.54602325439453], [737420.0, 289.11383056640625, 238.4851254272461], [737423.0, 290.82977294921875, 239.42117309570312], [737424.0, 292.9547119140625, 240.3349703979492], [737426.0, 299.6388854980469, 241.3322200012207], [737427.0, 296.72576904296875, 242.30541122436523], [737430.0, 299.09014892578125, 243.21780059814452], [737431.0, 297.68353271484375, 244.17799087524415], [737432.0, 302.4721374511719, 245.19611312866212], [737433.0, 308.89691162109375, 246.23113800048827], [737434.0, 309.59521484375, 247.2348519897461], [737437.0, 316.20953369140625, 248.3046096801758], [737438.0, 311.9396667480469, 249.3089907836914], [737439.0, 310.60284423828125, 250.30179397583007], [737440.0, 314.49359130859375, 251.43117889404297], [737441.0, 317.9753723144531, 252.55708786010743], [737445.0, 315.8204650878906, 253.68462295532225], [737446.0, 316.94781494140625, 254.80980484008788], [737447.0, 318.47418212890625, 255.91563690185546], [737448.0, 317.55633544921875, 257.0149758911133], [737451.0, 308.218505859375, 258.05117401123044], [737452.0, 316.93780517578125, 259.1398516845703], [737453.0, 323.5720520019531, 260.2541909790039], [737454.0, 323.1031799316406, 261.3640405273438], [737455.0, 308.7771911621094, 262.3215788269043], [737458.0, 307.92919921875, 263.24547271728517], [737459.0, 318.0950622558594, 264.20249404907224], [737460.0, 320.6889343261719, 265.19042739868166], [737461.0, 324.44000244140625, 266.2590390014648], [737462.0, 320.0299987792969, 267.27211212158204], [737465.0, 321.54998779296875, 268.2924279785156], [737466.0, 319.6099853515625, 269.27275451660154], [737467.0, 327.20001220703125, 270.34698440551756], [737468.0, 324.8699951171875, 271.43004150390624], [737469.0, 324.95001220703125, 272.5040516662598], [737473.0, 319.0, 273.5289060974121], [737474.0, 323.6199951171875, 274.56663970947267], [737475.0, 320.29998779296875, 275.58251220703124], [737476.0, 313.04998779296875, 276.5365272521973], [737479.0, 298.17999267578125, 277.2906182861328], [737480.0, 288.0799865722656, 277.9375424194336], [737481.0, 292.6499938964844, 278.6861651611328], [737482.0, 273.5199890136719, 279.224987487793], [737483.0, 273.3599853515625, 279.7006411743164], [737486.0, 298.80999755859375, 280.4302976989746], [737487.0, 289.32000732421875, 281.0915118408203], [737488.0, 302.739990234375, 281.8607666015625], [737489.0, 292.9200134277344, 282.5013854980469], [737490.0, 289.0299987792969, 283.0422319030762], [737493.0, 266.1700134277344, 283.3578602600098], [737494.0, 285.3399963378906, 283.8706588745117], [737495.0, 275.42999267578125, 284.29380676269534], [737496.0, 248.22999572753906, 284.4359033203125], [737497.0, 277.9700012207031, 284.8641603088379], [737500.0, 242.2100067138672, 284.89403701782226], [737501.0, 252.86000061035156, 285.03588409423827], [737502.0, 246.6699981689453, 285.0838037109375], [737503.0, 244.77999877929688, 285.1088447570801], [737504.0, 229.24000549316406, 284.94864639282224], [737507.0, 224.3699951171875, 284.71518020629884], [737508.0, 246.8800048828125, 284.76410583496096], [737509.0, 245.52000427246094, 284.7997297668457], [737510.0, 258.44000244140625, 284.9098481750488], [737511.0, 247.74000549316406, 284.8427444458008], [737514.0, 254.80999755859375, 284.8296307373047], [737515.0, 254.2899932861328, 284.8149969482422], [737516.0, 240.91000366210938, 284.66546936035155], [737517.0, 244.92999267578125, 284.52661193847655], [737518.0, 241.41000366210938, 284.34547119140626], [737521.0, 262.4700012207031, 284.35437927246096], [737522.0, 259.42999267578125, 284.3352816772461], [737523.0, 266.07000732421875, 284.3575436401367], [737524.0, 267.989990234375, 284.4172619628906], [737528.0, 273.25, 284.49845428466796], [737529.0, 287.04998779296875, 284.7042782592773], [737530.0, 284.42999267578125, 284.89198303222656], [737531.0, 286.69000244140625, 285.1332144165039], [737532.0, 282.79998779296875, 285.3473178100586], [737535.0, 276.92999267578125, 285.5050158691406], [737536.0, 268.3699951171875, 285.53132263183596], [737537.0, 276.1000061035156, 285.6556802368164], [737538.0, 275.0299987792969, 285.73392181396486], [737539.0, 282.9700012207031, 285.8974493408203]], \"data02\": [[0.8431899641577062, 0.9645222327341532, 0.9251024913276569], [0.8879928315412188, 0.9645222327341532, 0.9251024913276569]], \"data03\": [[0.8387096774193549, 0.8977550457269001], [0.9843189964157707, 0.8977550457269001], [0.988799283154122, 0.8977550457269001], [0.988799283154122, 0.9030110112477663], [0.988799283154122, 0.9816041206769683], [0.988799283154122, 0.9868600861978345], [0.9843189964157707, 0.9868600861978345], [0.8387096774193549, 0.9868600861978345], [0.8342293906810037, 0.9868600861978345], [0.8342293906810037, 0.9816041206769683], [0.8342293906810037, 0.9030110112477663], [0.8342293906810037, 0.8977550457269001], [0.8387096774193549, 0.8977550457269001]]}, \"id\": \"el13353140246068083280\", \"plugins\": [{\"type\": \"reset\"}, {\"type\": \"zoom\", \"button\": true, \"enabled\": false}, {\"type\": \"boxzoom\", \"button\": true, \"enabled\": false}]});\n",
       "      });\n",
       "    });\n",
       "}else{\n",
       "    // require.js not available: dynamically load d3 & mpld3\n",
       "    mpld3_load_lib(\"https://mpld3.github.io/js/d3.v3.min.js\", function(){\n",
       "         mpld3_load_lib(\"https://mpld3.github.io/js/mpld3.v0.3.js\", function(){\n",
       "                 \n",
       "                 mpld3.draw_figure(\"fig_el133531402460680832809396061628\", {\"width\": 576.0, \"height\": 504.0, \"axes\": [{\"bbox\": [0.125, 0.125, 0.775, 0.755], \"xlim\": [737227.15, 737553.85], \"ylim\": [184.79582901000975, 333.9811637878418], \"xdomain\": [[2019, 5, 17, 3, 36, 0, 0.0], [2020, 4, 8, 20, 24, 0, 0.0]], \"ydomain\": [184.79582901000975, 333.9811637878418], \"xscale\": \"date\", \"yscale\": \"linear\", \"axes\": [{\"position\": \"bottom\", \"nticks\": 11, \"tickvalues\": null, \"tickformat\": null, \"scale\": \"linear\", \"fontsize\": 10.0, \"grid\": {\"gridOn\": false}, \"visible\": true}, {\"position\": \"left\", \"nticks\": 9, \"tickvalues\": null, \"tickformat\": null, \"scale\": \"linear\", \"fontsize\": 10.0, \"grid\": {\"gridOn\": false}, \"visible\": true}], \"axesbg\": \"#FFFFFF\", \"axesbgalpha\": null, \"zoomable\": true, \"id\": \"el13353140246067667728\", \"lines\": [{\"data\": \"data01\", \"xindex\": 0, \"yindex\": 1, \"coordinates\": \"data\", \"id\": \"el13353140246067688400\", \"color\": \"#4878CF\", \"linewidth\": 1.5, \"dasharray\": \"none\", \"alpha\": 1, \"zorder\": 2, \"drawstyle\": \"default\"}, {\"data\": \"data01\", \"xindex\": 0, \"yindex\": 2, \"coordinates\": \"data\", \"id\": \"el13353140246067832656\", \"color\": \"#6ACC65\", \"linewidth\": 1.5, \"dasharray\": \"none\", \"alpha\": 1, \"zorder\": 2, \"drawstyle\": \"default\"}, {\"data\": \"data02\", \"xindex\": 0, \"yindex\": 1, \"coordinates\": \"axes\", \"id\": \"el13353140246067867920\", \"color\": \"#4878CF\", \"linewidth\": 1.5, \"dasharray\": \"none\", \"alpha\": 1, \"zorder\": 2000002.0, \"drawstyle\": \"default\"}, {\"data\": \"data02\", \"xindex\": 0, \"yindex\": 2, \"coordinates\": \"axes\", \"id\": \"el13353140246067867856\", \"color\": \"#6ACC65\", \"linewidth\": 1.5, \"dasharray\": \"none\", \"alpha\": 1, \"zorder\": 2000002.0, \"drawstyle\": \"default\"}], \"paths\": [{\"data\": \"data03\", \"xindex\": 0, \"yindex\": 1, \"coordinates\": \"axes\", \"pathcodes\": [\"M\", \"L\", \"S\", \"L\", \"S\", \"L\", \"S\", \"L\", \"S\", \"Z\"], \"id\": \"el13353140246067833744\", \"dasharray\": \"none\", \"alpha\": 0.8, \"facecolor\": \"#FFFFFF\", \"edgecolor\": \"#CCCCCC\", \"edgewidth\": 1.0, \"zorder\": 1999999.0}], \"markers\": [], \"texts\": [{\"text\": \"AAPL\", \"position\": [0.9059139784946239, 0.9553242930726373], \"coordinates\": \"axes\", \"h_anchor\": \"start\", \"v_baseline\": \"auto\", \"rotation\": -0.0, \"fontsize\": 10.0, \"color\": \"#000000\", \"alpha\": 1, \"zorder\": 2000003.0, \"id\": \"el13353140246067834512\"}, {\"text\": \"m_avg\", \"position\": [0.9059139784946239, 0.915904551666141], \"coordinates\": \"axes\", \"h_anchor\": \"start\", \"v_baseline\": \"auto\", \"rotation\": -0.0, \"fontsize\": 10.0, \"color\": \"#000000\", \"alpha\": 1, \"zorder\": 2000003.0, \"id\": \"el13353140246067869200\"}], \"collections\": [], \"images\": [], \"sharex\": [], \"sharey\": []}], \"data\": {\"data01\": [[737242.0, 200.88136291503906, NaN], [737243.0, 202.54605102539062, NaN], [737245.0, 202.36767578125, NaN], [737248.0, 198.19607543945312, NaN], [737249.0, 199.40496826171875, NaN], [737250.0, 201.37681579589844, NaN], [737251.0, 199.91030883789062, NaN], [737252.0, 201.44618225097656, NaN], [737255.0, 203.33876037597656, NaN], [737256.0, 202.63522338867188, NaN], [737257.0, 201.49571228027344, NaN], [737258.0, 203.78465270996094, NaN], [737259.0, 200.74264526367188, NaN], [737262.0, 205.33042907714844, NaN], [737263.0, 206.93563842773438, NaN], [737264.0, 206.7672119140625, NaN], [737265.0, 205.13226318359375, NaN], [737266.0, 205.84568786621094, NaN], [737269.0, 207.7679901123047, NaN], [737270.0, 206.87619018554688, NaN], [737271.0, 211.0973663330078, NaN], [737272.0, 206.5293731689453, NaN], [737273.0, 202.15960693359375, NaN], [737276.0, 191.5769805908203, NaN], [737277.0, 195.20361328125, NaN], [737278.0, 197.22500610351562, NaN], [737279.0, 201.57498168945312, NaN], [737280.0, 199.91392517089844, NaN], [737283.0, 199.40664672851562, NaN], [737284.0, 207.85121154785156, NaN], [737285.0, 201.6645050048828, NaN], [737286.0, 200.659912109375, NaN], [737287.0, 205.39442443847656, NaN], [737290.0, 209.22381591796875, NaN], [737291.0, 209.2337646484375, NaN], [737292.0, 211.50155639648438, NaN], [737293.0, 211.32252502441406, NaN], [737294.0, 201.5550994873047, NaN], [737297.0, 205.3844757080078, NaN], [737298.0, 203.06695556640625, NaN], [737299.0, 204.42962646484375, NaN], [737300.0, 207.89097595214844, NaN], [737301.0, 207.6224365234375, NaN], [737305.0, 204.59869384765625, NaN], [737306.0, 208.07003784179688, NaN], [737307.0, 212.13812255859375, NaN], [737308.0, 212.11822509765625, NaN], [737311.0, 213.0233612060547, NaN], [737312.0, 215.53981018066406, NaN], [737313.0, 222.39292907714844, NaN], [737314.0, 221.89559936523438, NaN], [737315.0, 217.57884216308594, NaN], [737318.0, 218.72268676757812, NaN], [737319.0, 219.51840209960938, NaN], [737320.0, 221.57733154296875, NaN], [737321.0, 219.7770233154297, NaN], [737322.0, 216.5642852783203, NaN], [737325.0, 217.5489959716797, NaN], [737326.0, 216.51455688476562, NaN], [737327.0, 219.8466339111328, NaN], [737328.0, 218.71273803710938, NaN], [737329.0, 217.6484832763672, NaN], [737332.0, 222.77088928222656, NaN], [737333.0, 223.3875732421875, NaN], [737334.0, 217.7877197265625, NaN], [737335.0, 219.63775634765625, NaN], [737336.0, 225.79461669921875, NaN], [737339.0, 225.84434509277344, NaN], [737340.0, 223.19859313964844, NaN], [737341.0, 225.81451416015625, NaN], [737342.0, 228.85812377929688, NaN], [737343.0, 234.9453582763672, NaN], [737346.0, 234.607177734375, NaN], [737347.0, 234.0601348876953, NaN], [737348.0, 233.11520385742188, NaN], [737349.0, 234.0203399658203, NaN], [737350.0, 235.14430236816406, NaN], [737353.0, 239.2223358154297, NaN], [737354.0, 238.67529296875, NaN], [737355.0, 241.87803649902344, NaN], [737356.0, 242.27589416503906, NaN], [737357.0, 245.2598419189453, NaN], [737360.0, 247.71661376953125, NaN], [737361.0, 241.98744201660156, NaN], [737362.0, 241.95761108398438, NaN], [737363.0, 247.42816162109375, NaN], [737364.0, 254.45037841796875, NaN], [737367.0, 256.1213684082031, NaN], [737368.0, 255.7533721923828, NaN], [737369.0, 255.86276245117188, NaN], [737370.0, 258.81573486328125, NaN], [737371.0, 259.5240783691406, NaN], [737374.0, 261.5791931152344, NaN], [737375.0, 261.3397521972656, NaN], [737376.0, 263.84381103515625, NaN], [737377.0, 262.0181579589844, NaN], [737378.0, 265.1307678222656, NaN], [737381.0, 266.46759033203125, NaN], [737382.0, 265.6595153808594, NaN], [737383.0, 262.5668640136719, 221.2257861328125], [737384.0, 261.3896484375, 221.8308689880371], [737385.0, 261.1601867675781, 222.41701034545898], [737388.0, 265.73931884765625, 223.05072677612304], [737389.0, 263.66424560546875, 223.7054084777832], [737390.0, 267.2058410644531, 224.38341720581056], [737392.0, 266.61724853515625, 225.03582153320312], [737395.0, 263.5345458984375, 225.6720639038086], [737396.0, 258.8357238769531, 226.24595932006835], [737397.0, 261.1202697753906, 226.8237744140625], [737398.0, 264.951171875, 227.44693389892578], [737399.0, 270.06903076171875, 228.13266708374024], [737402.0, 266.28802490234375, 228.75770080566406], [737403.0, 267.8443298339844, 229.42871765136718], [737404.0, 270.12890625, 230.0767024230957], [737405.0, 270.8172607421875, 230.71551864624024], [737406.0, 274.49853515625, 231.39283187866212], [737409.0, 279.1973571777344, 232.1334828186035], [737410.0, 279.74609375, 232.87248687744142], [737411.0, 279.0776672363281, 233.58558364868165], [737412.0, 279.35699462890625, 234.31039169311524], [737413.0, 278.77838134765625, 234.98720184326172], [737416.0, 283.32757568359375, 235.7551838684082], [737417.0, 283.596923828125, 236.56955703735352], [737419.0, 289.2236022949219, 237.54602325439453], [737420.0, 289.11383056640625, 238.4851254272461], [737423.0, 290.82977294921875, 239.42117309570312], [737424.0, 292.9547119140625, 240.3349703979492], [737426.0, 299.6388854980469, 241.3322200012207], [737427.0, 296.72576904296875, 242.30541122436523], [737430.0, 299.09014892578125, 243.21780059814452], [737431.0, 297.68353271484375, 244.17799087524415], [737432.0, 302.4721374511719, 245.19611312866212], [737433.0, 308.89691162109375, 246.23113800048827], [737434.0, 309.59521484375, 247.2348519897461], [737437.0, 316.20953369140625, 248.3046096801758], [737438.0, 311.9396667480469, 249.3089907836914], [737439.0, 310.60284423828125, 250.30179397583007], [737440.0, 314.49359130859375, 251.43117889404297], [737441.0, 317.9753723144531, 252.55708786010743], [737445.0, 315.8204650878906, 253.68462295532225], [737446.0, 316.94781494140625, 254.80980484008788], [737447.0, 318.47418212890625, 255.91563690185546], [737448.0, 317.55633544921875, 257.0149758911133], [737451.0, 308.218505859375, 258.05117401123044], [737452.0, 316.93780517578125, 259.1398516845703], [737453.0, 323.5720520019531, 260.2541909790039], [737454.0, 323.1031799316406, 261.3640405273438], [737455.0, 308.7771911621094, 262.3215788269043], [737458.0, 307.92919921875, 263.24547271728517], [737459.0, 318.0950622558594, 264.20249404907224], [737460.0, 320.6889343261719, 265.19042739868166], [737461.0, 324.44000244140625, 266.2590390014648], [737462.0, 320.0299987792969, 267.27211212158204], [737465.0, 321.54998779296875, 268.2924279785156], [737466.0, 319.6099853515625, 269.27275451660154], [737467.0, 327.20001220703125, 270.34698440551756], [737468.0, 324.8699951171875, 271.43004150390624], [737469.0, 324.95001220703125, 272.5040516662598], [737473.0, 319.0, 273.5289060974121], [737474.0, 323.6199951171875, 274.56663970947267], [737475.0, 320.29998779296875, 275.58251220703124], [737476.0, 313.04998779296875, 276.5365272521973], [737479.0, 298.17999267578125, 277.2906182861328], [737480.0, 288.0799865722656, 277.9375424194336], [737481.0, 292.6499938964844, 278.6861651611328], [737482.0, 273.5199890136719, 279.224987487793], [737483.0, 273.3599853515625, 279.7006411743164], [737486.0, 298.80999755859375, 280.4302976989746], [737487.0, 289.32000732421875, 281.0915118408203], [737488.0, 302.739990234375, 281.8607666015625], [737489.0, 292.9200134277344, 282.5013854980469], [737490.0, 289.0299987792969, 283.0422319030762], [737493.0, 266.1700134277344, 283.3578602600098], [737494.0, 285.3399963378906, 283.8706588745117], [737495.0, 275.42999267578125, 284.29380676269534], [737496.0, 248.22999572753906, 284.4359033203125], [737497.0, 277.9700012207031, 284.8641603088379], [737500.0, 242.2100067138672, 284.89403701782226], [737501.0, 252.86000061035156, 285.03588409423827], [737502.0, 246.6699981689453, 285.0838037109375], [737503.0, 244.77999877929688, 285.1088447570801], [737504.0, 229.24000549316406, 284.94864639282224], [737507.0, 224.3699951171875, 284.71518020629884], [737508.0, 246.8800048828125, 284.76410583496096], [737509.0, 245.52000427246094, 284.7997297668457], [737510.0, 258.44000244140625, 284.9098481750488], [737511.0, 247.74000549316406, 284.8427444458008], [737514.0, 254.80999755859375, 284.8296307373047], [737515.0, 254.2899932861328, 284.8149969482422], [737516.0, 240.91000366210938, 284.66546936035155], [737517.0, 244.92999267578125, 284.52661193847655], [737518.0, 241.41000366210938, 284.34547119140626], [737521.0, 262.4700012207031, 284.35437927246096], [737522.0, 259.42999267578125, 284.3352816772461], [737523.0, 266.07000732421875, 284.3575436401367], [737524.0, 267.989990234375, 284.4172619628906], [737528.0, 273.25, 284.49845428466796], [737529.0, 287.04998779296875, 284.7042782592773], [737530.0, 284.42999267578125, 284.89198303222656], [737531.0, 286.69000244140625, 285.1332144165039], [737532.0, 282.79998779296875, 285.3473178100586], [737535.0, 276.92999267578125, 285.5050158691406], [737536.0, 268.3699951171875, 285.53132263183596], [737537.0, 276.1000061035156, 285.6556802368164], [737538.0, 275.0299987792969, 285.73392181396486], [737539.0, 282.9700012207031, 285.8974493408203]], \"data02\": [[0.8431899641577062, 0.9645222327341532, 0.9251024913276569], [0.8879928315412188, 0.9645222327341532, 0.9251024913276569]], \"data03\": [[0.8387096774193549, 0.8977550457269001], [0.9843189964157707, 0.8977550457269001], [0.988799283154122, 0.8977550457269001], [0.988799283154122, 0.9030110112477663], [0.988799283154122, 0.9816041206769683], [0.988799283154122, 0.9868600861978345], [0.9843189964157707, 0.9868600861978345], [0.8387096774193549, 0.9868600861978345], [0.8342293906810037, 0.9868600861978345], [0.8342293906810037, 0.9816041206769683], [0.8342293906810037, 0.9030110112477663], [0.8342293906810037, 0.8977550457269001], [0.8387096774193549, 0.8977550457269001]]}, \"id\": \"el13353140246068083280\", \"plugins\": [{\"type\": \"reset\"}, {\"type\": \"zoom\", \"button\": true, \"enabled\": false}, {\"type\": \"boxzoom\", \"button\": true, \"enabled\": false}]});\n",
       "            })\n",
       "         });\n",
       "}\n",
       "</script>"
      ],
      "text/plain": [
       "<IPython.core.display.HTML object>"
      ]
     },
     "execution_count": 53,
     "metadata": {},
     "output_type": "execute_result"
    }
   ],
   "source": [
    "fig, ax = plt.subplots()\n",
    "ax.plot(close_px.index, close_px, label=\"AAPL\")\n",
    "ax.plot(mavg.index, mavg, label=\"m_avg\")\n",
    "ax.legend()\n",
    "html_text = mpld3.fig_to_html(fig)\n",
    "ax.tick\n",
    "mpld3.display()"
   ]
  },
  {
   "cell_type": "code",
   "execution_count": null,
   "metadata": {},
   "outputs": [],
   "source": []
  },
  {
   "cell_type": "code",
   "execution_count": 33,
   "metadata": {},
   "outputs": [
    {
     "data": {
      "text/plain": [
       "Date\n",
       "2019-07-02    202.729996\n",
       "2019-07-03    204.410004\n",
       "2019-07-05    204.229996\n",
       "2019-07-08    200.020004\n",
       "2019-07-09    201.240005\n",
       "                 ...    \n",
       "2020-04-20    276.929993\n",
       "2020-04-21    268.369995\n",
       "2020-04-22    276.100006\n",
       "2020-04-23    275.029999\n",
       "2020-04-24    282.970001\n",
       "Name: Close, Length: 206, dtype: float64"
      ]
     },
     "execution_count": 33,
     "metadata": {},
     "output_type": "execute_result"
    }
   ],
   "source": [
    "close"
   ]
  },
  {
   "cell_type": "markdown",
   "metadata": {},
   "source": [
    "<h1 style=\"color: #5f5fef;\"> Creating Model </h1>"
   ]
  },
  {
   "cell_type": "code",
   "execution_count": 34,
   "metadata": {},
   "outputs": [],
   "source": [
    "from sklearn.linear_model import LinearRegression\n",
    "from sklearn.neighbors import KNeighborsRegressor\n",
    "\n",
    "from sklearn.linear_model import Ridge\n",
    "from sklearn.preprocessing import PolynomialFeatures\n",
    "from sklearn.pipeline import make_pipeline"
   ]
  },
  {
   "cell_type": "markdown",
   "metadata": {},
   "source": [
    "<h3 style=\"color: #005f0f;\"> Feature Engineering </h3>\n",
    "\n",
    "###### .HL_PCT => High-Low Percentage Change\n",
    "###### .PCT_change => Pecentage Of Change \n",
    "\n",
    ".> High-Low Percent is positive: because there are more new highs than new lows.\n",
    "\n",
    ".> High-Low Percent is negative (-5.19%) because there are more new lows than new highs.\n",
    "\n",
    "\n",
    "> (point out at: how PCT_change changes when Adj_Close changes)"
   ]
  },
  {
   "cell_type": "code",
   "execution_count": 59,
   "metadata": {},
   "outputs": [
    {
     "data": {
      "text/html": [
       "<div>\n",
       "<style scoped>\n",
       "    .dataframe tbody tr th:only-of-type {\n",
       "        vertical-align: middle;\n",
       "    }\n",
       "\n",
       "    .dataframe tbody tr th {\n",
       "        vertical-align: top;\n",
       "    }\n",
       "\n",
       "    .dataframe thead th {\n",
       "        text-align: right;\n",
       "    }\n",
       "</style>\n",
       "<table border=\"1\" class=\"dataframe\">\n",
       "  <thead>\n",
       "    <tr style=\"text-align: right;\">\n",
       "      <th></th>\n",
       "      <th>Adj Close</th>\n",
       "      <th>Volume</th>\n",
       "      <th>HL_PCT</th>\n",
       "      <th>PCT_change</th>\n",
       "    </tr>\n",
       "    <tr>\n",
       "      <th>Date</th>\n",
       "      <th></th>\n",
       "      <th></th>\n",
       "      <th></th>\n",
       "      <th></th>\n",
       "    </tr>\n",
       "  </thead>\n",
       "  <tbody>\n",
       "    <tr>\n",
       "      <td>2019-07-02</td>\n",
       "      <td>200.881363</td>\n",
       "      <td>16935200.0</td>\n",
       "      <td>0.873085</td>\n",
       "      <td>0.655376</td>\n",
       "    </tr>\n",
       "    <tr>\n",
       "      <td>2019-07-03</td>\n",
       "      <td>202.546051</td>\n",
       "      <td>11362000.0</td>\n",
       "      <td>0.856122</td>\n",
       "      <td>0.555886</td>\n",
       "    </tr>\n",
       "    <tr>\n",
       "      <td>2019-07-05</td>\n",
       "      <td>202.367676</td>\n",
       "      <td>17265500.0</td>\n",
       "      <td>1.067428</td>\n",
       "      <td>0.432746</td>\n",
       "    </tr>\n",
       "    <tr>\n",
       "      <td>2019-07-08</td>\n",
       "      <td>198.196075</td>\n",
       "      <td>25338600.0</td>\n",
       "      <td>1.494846</td>\n",
       "      <td>-0.393403</td>\n",
       "    </tr>\n",
       "    <tr>\n",
       "      <td>2019-07-09</td>\n",
       "      <td>199.404968</td>\n",
       "      <td>20578000.0</td>\n",
       "      <td>1.341680</td>\n",
       "      <td>1.024101</td>\n",
       "    </tr>\n",
       "  </tbody>\n",
       "</table>\n",
       "</div>"
      ],
      "text/plain": [
       "             Adj Close      Volume    HL_PCT  PCT_change\n",
       "Date                                                    \n",
       "2019-07-02  200.881363  16935200.0  0.873085    0.655376\n",
       "2019-07-03  202.546051  11362000.0  0.856122    0.555886\n",
       "2019-07-05  202.367676  17265500.0  1.067428    0.432746\n",
       "2019-07-08  198.196075  25338600.0  1.494846   -0.393403\n",
       "2019-07-09  199.404968  20578000.0  1.341680    1.024101"
      ]
     },
     "execution_count": 59,
     "metadata": {},
     "output_type": "execute_result"
    }
   ],
   "source": [
    "dfreg = df.loc[:,['Adj Close','Volume']]\n",
    "\n",
    "# dfreg['HL_PCT'] = (df['High'] - df['Low']) * 100.0\n",
    "# dfreg['PCT_change'] = (df['Close'] - df['Open']) * 100.0\n",
    "\n",
    "dfreg['HL_PCT'] = (df['High'] - df['Low']) / df['Close'] * 100.0\n",
    "dfreg['PCT_change'] = (df['Close'] - df['Open']) /  df['Open'] * 100.0\n",
    "\n",
    "dfreg.head()"
   ]
  },
  {
   "cell_type": "markdown",
   "metadata": {},
   "source": [
    "## \" Here Is Where You Need To Focus \"\n",
    "\n",
    "here we take the previous _______forcast___out___ days data and shift the _forcast____column_ to that number and assign it to a new column named \"forcast_column\".\n",
    "\n",
    "So, Basically the previous 1 percent of the data ( 60 days) will act as a label for prediction of 61 day. and thats what we will train our model on"
   ]
  },
  {
   "cell_type": "code",
   "execution_count": 36,
   "metadata": {},
   "outputs": [
    {
     "name": "stdout",
     "output_type": "stream",
     "text": [
      "(206, 4)\n",
      "Dimension of X (146, 4)\n",
      "Dimension of y (146,)\n"
     ]
    },
    {
     "data": {
      "text/plain": [
       "(60, 4)"
      ]
     },
     "execution_count": 36,
     "metadata": {},
     "output_type": "execute_result"
    }
   ],
   "source": [
    "import math\n",
    "import numpy as np\n",
    "from sklearn import preprocessing, svm\n",
    "from sklearn.model_selection import train_test_split\n",
    "\n",
    "\n",
    "# Drop missing value\n",
    "dfreg.fillna(value=-99999, inplace=True)\n",
    "\n",
    "print(dfreg.shape)\n",
    "# We want to separate 1 percent of the data to forecast\n",
    "# forecast_out = int(math.ceil(0.1 * len(dfreg)))\n",
    "forecast_out =60\n",
    "\n",
    "# Separating the label here, we want to predict the AdjClose\n",
    "forecast_col = 'Adj Close'\n",
    "dfreg['label'] = dfreg[forecast_col].shift(-forecast_out)\n",
    "X = np.array(dfreg.drop(['label'], 1))\n",
    "\n",
    "# Scale the X so that everyone can have the same distribution for linear regression\n",
    "X = preprocessing.scale(X)\n",
    "\n",
    "# Finally We want to find Data Series of late X and early X (train) for model generation and evaluation\n",
    "X_lately = X[-forecast_out:]\n",
    "X = X[:-forecast_out]\n",
    "\n",
    "# Separate label and identify it as y\n",
    "y = np.array(dfreg['label'])\n",
    "y = y[:-forecast_out]\n",
    "\n",
    "print('Dimension of X',X.shape)\n",
    "print('Dimension of y',y.shape)\n",
    "# dfreg.head(5)\n",
    "X_lately.shape\n",
    "# dfreg.head()"
   ]
  },
  {
   "cell_type": "code",
   "execution_count": 37,
   "metadata": {},
   "outputs": [
    {
     "data": {
      "text/plain": [
       "60"
      ]
     },
     "execution_count": 37,
     "metadata": {},
     "output_type": "execute_result"
    }
   ],
   "source": [
    "forecast_out"
   ]
  },
  {
   "cell_type": "code",
   "execution_count": 38,
   "metadata": {},
   "outputs": [
    {
     "data": {
      "text/plain": [
       "1"
      ]
     },
     "execution_count": 38,
     "metadata": {},
     "output_type": "execute_result"
    }
   ],
   "source": [
    "# Temp Space\n",
    "int(math.ceil(0.001 * len(dfreg)))"
   ]
  },
  {
   "cell_type": "code",
   "execution_count": 39,
   "metadata": {},
   "outputs": [],
   "source": [
    "# Separation of training and testing of model by cross validation train test split\n",
    "# X_train, X_test, y_train, y_test = train_test_split(X, y, test_size=0.2)"
   ]
  },
  {
   "cell_type": "code",
   "execution_count": 40,
   "metadata": {},
   "outputs": [
    {
     "data": {
      "text/plain": [
       "LinearRegression(copy_X=True, fit_intercept=True, n_jobs=-1, normalize=False)"
      ]
     },
     "execution_count": 40,
     "metadata": {},
     "output_type": "execute_result"
    }
   ],
   "source": [
    "# Linear regression\n",
    "clfreg = LinearRegression(n_jobs=-1)\n",
    "clfreg.fit(X, y)\n",
    "\n",
    "\n",
    "# # Quadratic Regression 2\n",
    "# clfpoly2 = make_pipeline(PolynomialFeatures(2), Ridge())\n",
    "# clfpoly2.fit(X_train, y_train)\n",
    "\n",
    "# # Quadratic Regression 3\n",
    "# clfpoly3 = make_pipeline(PolynomialFeatures(3), Ridge())\n",
    "# clfpoly3.fit(X_train, y_train)\n",
    "    \n",
    "# # KNN Regression\n",
    "# clfknn = KNeighborsRegressor(n_neighbors=2)\n",
    "# clfknn.fit(X_train, y_train)"
   ]
  },
  {
   "cell_type": "code",
   "execution_count": 41,
   "metadata": {},
   "outputs": [],
   "source": [
    "# confidencereg = clfreg.score(X_test, y_test)\n",
    "# confidencepoly2 = clfpoly2.score(X_test,y_test)\n",
    "# confidencepoly3 = clfpoly3.score(X_test,y_test)\n",
    "# confidenceknn = clfknn.score(X_test, y_test)\n",
    "\n",
    "# print(\"The linear regression confidence is \",confidencereg)\n",
    "# print(\"The quadratic regression 2 confidence is \",confidencepoly2)\n",
    "# print(\"The quadratic regression 3 confidence is \",confidencepoly3)\n",
    "# print(\"The knn regression confidence is \",confidenceknn)"
   ]
  },
  {
   "cell_type": "code",
   "execution_count": 42,
   "metadata": {},
   "outputs": [
    {
     "data": {
      "text/plain": [
       "(206, 6)"
      ]
     },
     "execution_count": 42,
     "metadata": {},
     "output_type": "execute_result"
    }
   ],
   "source": [
    "# Printing the forecast\n",
    "forecast_set = clfreg.predict(X_lately)\n",
    "dfreg['Forecast'] = np.nan\n",
    "dfreg.shape\n",
    "# print(forecast_set, confidencereg, forecast_out)"
   ]
  },
  {
   "cell_type": "code",
   "execution_count": 43,
   "metadata": {},
   "outputs": [
    {
     "data": {
      "text/plain": [
       "Index(['Adj Close', 'Volume', 'HL_PCT', 'PCT_change', 'label', 'Forecast'], dtype='object')"
      ]
     },
     "execution_count": 43,
     "metadata": {},
     "output_type": "execute_result"
    }
   ],
   "source": [
    "# dfreg.iloc[250].name\n",
    "dfreg.columns\n",
    "# X_lately.iloc[-1].name"
   ]
  },
  {
   "cell_type": "code",
   "execution_count": 44,
   "metadata": {},
   "outputs": [],
   "source": [
    "last_date = dfreg.iloc[-1].name\n",
    "last_unix = last_date\n",
    "next_unix = last_unix + datetime.timedelta(days=1)\n",
    "\n",
    "for i in forecast_set:\n",
    "    next_date = next_unix\n",
    "#     print(next_date)\n",
    "    next_unix += datetime.timedelta(days=1)\n",
    "    dfreg.loc[next_date] = [np.nan for _ in range(len(dfreg.columns)-1)]+[i]\n",
    "     "
   ]
  },
  {
   "cell_type": "code",
   "execution_count": 45,
   "metadata": {},
   "outputs": [
    {
     "data": {
      "text/html": [
       "<div>\n",
       "<style scoped>\n",
       "    .dataframe tbody tr th:only-of-type {\n",
       "        vertical-align: middle;\n",
       "    }\n",
       "\n",
       "    .dataframe tbody tr th {\n",
       "        vertical-align: top;\n",
       "    }\n",
       "\n",
       "    .dataframe thead th {\n",
       "        text-align: right;\n",
       "    }\n",
       "</style>\n",
       "<table border=\"1\" class=\"dataframe\">\n",
       "  <thead>\n",
       "    <tr style=\"text-align: right;\">\n",
       "      <th></th>\n",
       "      <th>Adj Close</th>\n",
       "      <th>Volume</th>\n",
       "      <th>HL_PCT</th>\n",
       "      <th>PCT_change</th>\n",
       "      <th>label</th>\n",
       "      <th>Forecast</th>\n",
       "    </tr>\n",
       "    <tr>\n",
       "      <th>Date</th>\n",
       "      <th></th>\n",
       "      <th></th>\n",
       "      <th></th>\n",
       "      <th></th>\n",
       "      <th></th>\n",
       "      <th></th>\n",
       "    </tr>\n",
       "  </thead>\n",
       "  <tbody>\n",
       "    <tr>\n",
       "      <td>2019-12-09</td>\n",
       "      <td>266.288025</td>\n",
       "      <td>32010600.0</td>\n",
       "      <td>2.206648</td>\n",
       "      <td>-1.140736</td>\n",
       "      <td>289.029999</td>\n",
       "      <td>NaN</td>\n",
       "    </tr>\n",
       "    <tr>\n",
       "      <td>2019-12-10</td>\n",
       "      <td>267.844330</td>\n",
       "      <td>22605100.0</td>\n",
       "      <td>1.568095</td>\n",
       "      <td>-0.044674</td>\n",
       "      <td>266.170013</td>\n",
       "      <td>NaN</td>\n",
       "    </tr>\n",
       "    <tr>\n",
       "      <td>2019-12-11</td>\n",
       "      <td>270.128906</td>\n",
       "      <td>19689200.0</td>\n",
       "      <td>0.960227</td>\n",
       "      <td>0.729136</td>\n",
       "      <td>285.339996</td>\n",
       "      <td>NaN</td>\n",
       "    </tr>\n",
       "    <tr>\n",
       "      <td>2019-12-12</td>\n",
       "      <td>270.817261</td>\n",
       "      <td>34327600.0</td>\n",
       "      <td>1.930299</td>\n",
       "      <td>1.374260</td>\n",
       "      <td>275.429993</td>\n",
       "      <td>NaN</td>\n",
       "    </tr>\n",
       "    <tr>\n",
       "      <td>2019-12-13</td>\n",
       "      <td>274.498535</td>\n",
       "      <td>33396900.0</td>\n",
       "      <td>1.588223</td>\n",
       "      <td>1.359317</td>\n",
       "      <td>248.229996</td>\n",
       "      <td>NaN</td>\n",
       "    </tr>\n",
       "    <tr>\n",
       "      <td>...</td>\n",
       "      <td>...</td>\n",
       "      <td>...</td>\n",
       "      <td>...</td>\n",
       "      <td>...</td>\n",
       "      <td>...</td>\n",
       "      <td>...</td>\n",
       "    </tr>\n",
       "    <tr>\n",
       "      <td>2020-06-19</td>\n",
       "      <td>NaN</td>\n",
       "      <td>NaN</td>\n",
       "      <td>NaN</td>\n",
       "      <td>NaN</td>\n",
       "      <td>NaN</td>\n",
       "      <td>281.018587</td>\n",
       "    </tr>\n",
       "    <tr>\n",
       "      <td>2020-06-20</td>\n",
       "      <td>NaN</td>\n",
       "      <td>NaN</td>\n",
       "      <td>NaN</td>\n",
       "      <td>NaN</td>\n",
       "      <td>NaN</td>\n",
       "      <td>285.688194</td>\n",
       "    </tr>\n",
       "    <tr>\n",
       "      <td>2020-06-21</td>\n",
       "      <td>NaN</td>\n",
       "      <td>NaN</td>\n",
       "      <td>NaN</td>\n",
       "      <td>NaN</td>\n",
       "      <td>NaN</td>\n",
       "      <td>281.329703</td>\n",
       "    </tr>\n",
       "    <tr>\n",
       "      <td>2020-06-22</td>\n",
       "      <td>NaN</td>\n",
       "      <td>NaN</td>\n",
       "      <td>NaN</td>\n",
       "      <td>NaN</td>\n",
       "      <td>NaN</td>\n",
       "      <td>283.869446</td>\n",
       "    </tr>\n",
       "    <tr>\n",
       "      <td>2020-06-23</td>\n",
       "      <td>NaN</td>\n",
       "      <td>NaN</td>\n",
       "      <td>NaN</td>\n",
       "      <td>NaN</td>\n",
       "      <td>NaN</td>\n",
       "      <td>279.787667</td>\n",
       "    </tr>\n",
       "  </tbody>\n",
       "</table>\n",
       "<p>155 rows × 6 columns</p>\n",
       "</div>"
      ],
      "text/plain": [
       "             Adj Close      Volume    HL_PCT  PCT_change       label  \\\n",
       "Date                                                                   \n",
       "2019-12-09  266.288025  32010600.0  2.206648   -1.140736  289.029999   \n",
       "2019-12-10  267.844330  22605100.0  1.568095   -0.044674  266.170013   \n",
       "2019-12-11  270.128906  19689200.0  0.960227    0.729136  285.339996   \n",
       "2019-12-12  270.817261  34327600.0  1.930299    1.374260  275.429993   \n",
       "2019-12-13  274.498535  33396900.0  1.588223    1.359317  248.229996   \n",
       "...                ...         ...       ...         ...         ...   \n",
       "2020-06-19         NaN         NaN       NaN         NaN         NaN   \n",
       "2020-06-20         NaN         NaN       NaN         NaN         NaN   \n",
       "2020-06-21         NaN         NaN       NaN         NaN         NaN   \n",
       "2020-06-22         NaN         NaN       NaN         NaN         NaN   \n",
       "2020-06-23         NaN         NaN       NaN         NaN         NaN   \n",
       "\n",
       "              Forecast  \n",
       "Date                    \n",
       "2019-12-09         NaN  \n",
       "2019-12-10         NaN  \n",
       "2019-12-11         NaN  \n",
       "2019-12-12         NaN  \n",
       "2019-12-13         NaN  \n",
       "...                ...  \n",
       "2020-06-19  281.018587  \n",
       "2020-06-20  285.688194  \n",
       "2020-06-21  281.329703  \n",
       "2020-06-22  283.869446  \n",
       "2020-06-23  279.787667  \n",
       "\n",
       "[155 rows x 6 columns]"
      ]
     },
     "execution_count": 45,
     "metadata": {},
     "output_type": "execute_result"
    }
   ],
   "source": [
    "# dfreg.iloc[260]\n",
    "# len(dfreg)\n",
    "# forecast_set\n",
    "dfreg.tail(155)"
   ]
  },
  {
   "cell_type": "code",
   "execution_count": null,
   "metadata": {},
   "outputs": [],
   "source": []
  },
  {
   "cell_type": "code",
   "execution_count": 46,
   "metadata": {
    "scrolled": true
   },
   "outputs": [
    {
     "data": {
      "image/png": "[encoded data removed]",
      "text/plain": [
       "<Figure size 576x504 with 1 Axes>"
      ]
     },
     "metadata": {
      "needs_background": "light"
     },
     "output_type": "display_data"
    }
   ],
   "source": [
    "dfreg['Adj Close'].plot()\n",
    "dfreg['Forecast'].plot()\n",
    "plt.legend(loc=10)\n",
    "plt.xlabel('Date')\n",
    "plt.ylabel('Price')\n",
    "plt.show()"
   ]
  },
  {
   "cell_type": "code",
   "execution_count": 51,
   "metadata": {},
   "outputs": [
    {
     "data": {
      "text/html": [
       "\n",
       "\n",
       "<style>\n",
       "\n",
       "</style>\n",
       "\n",
       "<div id=\"fig_el133531402460690955045954494119\"></div>\n",
       "<script>\n",
       "function mpld3_load_lib(url, callback){\n",
       "  var s = document.createElement('script');\n",
       "  s.src = url;\n",
       "  s.async = true;\n",
       "  s.onreadystatechange = s.onload = callback;\n",
       "  s.onerror = function(){console.warn(\"failed to load library \" + url);};\n",
       "  document.getElementsByTagName(\"head\")[0].appendChild(s);\n",
       "}\n",
       "\n",
       "if(typeof(mpld3) !== \"undefined\" && mpld3._mpld3IsLoaded){\n",
       "   // already loaded: just create the figure\n",
       "   !function(mpld3){\n",
       "       \n",
       "       mpld3.draw_figure(\"fig_el133531402460690955045954494119\", {\"width\": 360.0, \"height\": 360.0, \"axes\": [{\"bbox\": [0.125, 0.125, 0.775, 0.755], \"xlim\": [737224.15, 737616.85], \"ylim\": [184.79582901000975, 333.9811637878418], \"xdomain\": [[2019, 5, 14, 3, 36, 0, 0.0], [2020, 6, 10, 20, 24, 0, 0.0]], \"ydomain\": [184.79582901000975, 333.9811637878418], \"xscale\": \"date\", \"yscale\": \"linear\", \"axes\": [{\"position\": \"bottom\", \"nticks\": 7, \"tickvalues\": null, \"tickformat\": null, \"scale\": \"linear\", \"fontsize\": 10.0, \"grid\": {\"gridOn\": false}, \"visible\": true}, {\"position\": \"left\", \"nticks\": 9, \"tickvalues\": null, \"tickformat\": null, \"scale\": \"linear\", \"fontsize\": 10.0, \"grid\": {\"gridOn\": false}, \"visible\": true}], \"axesbg\": \"#FFFFFF\", \"axesbgalpha\": null, \"zoomable\": true, \"id\": \"el13353140246069216080\", \"lines\": [{\"data\": \"data01\", \"xindex\": 0, \"yindex\": 1, \"coordinates\": \"data\", \"id\": \"el13353140246069638736\", \"color\": \"#4878CF\", \"linewidth\": 1.5, \"dasharray\": \"none\", \"alpha\": 1, \"zorder\": 2, \"drawstyle\": \"default\"}, {\"data\": \"data01\", \"xindex\": 0, \"yindex\": 2, \"coordinates\": \"data\", \"id\": \"el13353140246068887376\", \"color\": \"#6ACC65\", \"linewidth\": 1.5, \"dasharray\": \"none\", \"alpha\": 1, \"zorder\": 2, \"drawstyle\": \"default\"}, {\"data\": \"data02\", \"xindex\": 0, \"yindex\": 1, \"coordinates\": \"axes\", \"id\": \"el13353140246068967760\", \"color\": \"#4878CF\", \"linewidth\": 1.5, \"dasharray\": \"none\", \"alpha\": 1, \"zorder\": 2000002.0, \"drawstyle\": \"default\"}, {\"data\": \"data02\", \"xindex\": 0, \"yindex\": 2, \"coordinates\": \"axes\", \"id\": \"el13353140246068967696\", \"color\": \"#6ACC65\", \"linewidth\": 1.5, \"dasharray\": \"none\", \"alpha\": 1, \"zorder\": 2000002.0, \"drawstyle\": \"default\"}], \"paths\": [{\"data\": \"data03\", \"xindex\": 0, \"yindex\": 1, \"coordinates\": \"axes\", \"pathcodes\": [\"M\", \"L\", \"S\", \"L\", \"S\", \"L\", \"S\", \"L\", \"S\", \"Z\"], \"id\": \"el13353140246068887184\", \"dasharray\": \"none\", \"alpha\": 0.8, \"facecolor\": \"#FFFFFF\", \"edgecolor\": \"#CCCCCC\", \"edgewidth\": 1.0, \"zorder\": 1999999.0}], \"markers\": [], \"texts\": [{\"text\": \"Adj Close\", \"position\": [0.8015232974910395, 0.9374540103016924], \"coordinates\": \"axes\", \"h_anchor\": \"start\", \"v_baseline\": \"auto\", \"rotation\": -0.0, \"fontsize\": 10.0, \"color\": \"#000000\", \"alpha\": 1, \"zorder\": 2000003.0, \"id\": \"el13353140246068967184\"}, {\"text\": \"Forecast\", \"position\": [0.8015232974910395, 0.8822663723325976], \"coordinates\": \"axes\", \"h_anchor\": \"start\", \"v_baseline\": \"auto\", \"rotation\": -0.0, \"fontsize\": 10.0, \"color\": \"#000000\", \"alpha\": 1, \"zorder\": 2000003.0, \"id\": \"el13353140246068969040\"}], \"collections\": [], \"images\": [], \"sharex\": [], \"sharey\": []}], \"data\": {\"data01\": [[737242.0, 200.88136291503906, NaN], [737243.0, 202.54605102539062, NaN], [737245.0, 202.36767578125, NaN], [737248.0, 198.19607543945312, NaN], [737249.0, 199.40496826171875, NaN], [737250.0, 201.37681579589844, NaN], [737251.0, 199.91030883789062, NaN], [737252.0, 201.44618225097656, NaN], [737255.0, 203.33876037597656, NaN], [737256.0, 202.63522338867188, NaN], [737257.0, 201.49571228027344, NaN], [737258.0, 203.78465270996094, NaN], [737259.0, 200.74264526367188, NaN], [737262.0, 205.33042907714844, NaN], [737263.0, 206.93563842773438, NaN], [737264.0, 206.7672119140625, NaN], [737265.0, 205.13226318359375, NaN], [737266.0, 205.84568786621094, NaN], [737269.0, 207.7679901123047, NaN], [737270.0, 206.87619018554688, NaN], [737271.0, 211.0973663330078, NaN], [737272.0, 206.5293731689453, NaN], [737273.0, 202.15960693359375, NaN], [737276.0, 191.5769805908203, NaN], [737277.0, 195.20361328125, NaN], [737278.0, 197.22500610351562, NaN], [737279.0, 201.57498168945312, NaN], [737280.0, 199.91392517089844, NaN], [737283.0, 199.40664672851562, NaN], [737284.0, 207.85121154785156, NaN], [737285.0, 201.6645050048828, NaN], [737286.0, 200.659912109375, NaN], [737287.0, 205.39442443847656, NaN], [737290.0, 209.22381591796875, NaN], [737291.0, 209.2337646484375, NaN], [737292.0, 211.50155639648438, NaN], [737293.0, 211.32252502441406, NaN], [737294.0, 201.5550994873047, NaN], [737297.0, 205.3844757080078, NaN], [737298.0, 203.06695556640625, NaN], [737299.0, 204.42962646484375, NaN], [737300.0, 207.89097595214844, NaN], [737301.0, 207.6224365234375, NaN], [737305.0, 204.59869384765625, NaN], [737306.0, 208.07003784179688, NaN], [737307.0, 212.13812255859375, NaN], [737308.0, 212.11822509765625, NaN], [737311.0, 213.0233612060547, NaN], [737312.0, 215.53981018066406, NaN], [737313.0, 222.39292907714844, NaN], [737314.0, 221.89559936523438, NaN], [737315.0, 217.57884216308594, NaN], [737318.0, 218.72268676757812, NaN], [737319.0, 219.51840209960938, NaN], [737320.0, 221.57733154296875, NaN], [737321.0, 219.7770233154297, NaN], [737322.0, 216.5642852783203, NaN], [737325.0, 217.5489959716797, NaN], [737326.0, 216.51455688476562, NaN], [737327.0, 219.8466339111328, NaN], [737328.0, 218.71273803710938, NaN], [737329.0, 217.6484832763672, NaN], [737332.0, 222.77088928222656, NaN], [737333.0, 223.3875732421875, NaN], [737334.0, 217.7877197265625, NaN], [737335.0, 219.63775634765625, NaN], [737336.0, 225.79461669921875, NaN], [737339.0, 225.84434509277344, NaN], [737340.0, 223.19859313964844, NaN], [737341.0, 225.81451416015625, NaN], [737342.0, 228.85812377929688, NaN], [737343.0, 234.9453582763672, NaN], [737346.0, 234.607177734375, NaN], [737347.0, 234.0601348876953, NaN], [737348.0, 233.11520385742188, NaN], [737349.0, 234.0203399658203, NaN], [737350.0, 235.14430236816406, NaN], [737353.0, 239.2223358154297, NaN], [737354.0, 238.67529296875, NaN], [737355.0, 241.87803649902344, NaN], [737356.0, 242.27589416503906, NaN], [737357.0, 245.2598419189453, NaN], [737360.0, 247.71661376953125, NaN], [737361.0, 241.98744201660156, NaN], [737362.0, 241.95761108398438, NaN], [737363.0, 247.42816162109375, NaN], [737364.0, 254.45037841796875, NaN], [737367.0, 256.1213684082031, NaN], [737368.0, 255.7533721923828, NaN], [737369.0, 255.86276245117188, NaN], [737370.0, 258.81573486328125, NaN], [737371.0, 259.5240783691406, NaN], [737374.0, 261.5791931152344, NaN], [737375.0, 261.3397521972656, NaN], [737376.0, 263.84381103515625, NaN], [737377.0, 262.0181579589844, NaN], [737378.0, 265.1307678222656, NaN], [737381.0, 266.46759033203125, NaN], [737382.0, 265.6595153808594, NaN], [737383.0, 262.5668640136719, NaN], [737384.0, 261.3896484375, NaN], [737385.0, 261.1601867675781, NaN], [737388.0, 265.73931884765625, NaN], [737389.0, 263.66424560546875, NaN], [737390.0, 267.2058410644531, NaN], [737392.0, 266.61724853515625, NaN], [737395.0, 263.5345458984375, NaN], [737396.0, 258.8357238769531, NaN], [737397.0, 261.1202697753906, NaN], [737398.0, 264.951171875, NaN], [737399.0, 270.06903076171875, NaN], [737402.0, 266.28802490234375, NaN], [737403.0, 267.8443298339844, NaN], [737404.0, 270.12890625, NaN], [737405.0, 270.8172607421875, NaN], [737406.0, 274.49853515625, NaN], [737409.0, 279.1973571777344, NaN], [737410.0, 279.74609375, NaN], [737411.0, 279.0776672363281, NaN], [737412.0, 279.35699462890625, NaN], [737413.0, 278.77838134765625, NaN], [737416.0, 283.32757568359375, NaN], [737417.0, 283.596923828125, NaN], [737419.0, 289.2236022949219, NaN], [737420.0, 289.11383056640625, NaN], [737423.0, 290.82977294921875, NaN], [737424.0, 292.9547119140625, NaN], [737426.0, 299.6388854980469, NaN], [737427.0, 296.72576904296875, NaN], [737430.0, 299.09014892578125, NaN], [737431.0, 297.68353271484375, NaN], [737432.0, 302.4721374511719, NaN], [737433.0, 308.89691162109375, NaN], [737434.0, 309.59521484375, NaN], [737437.0, 316.20953369140625, NaN], [737438.0, 311.9396667480469, NaN], [737439.0, 310.60284423828125, NaN], [737440.0, 314.49359130859375, NaN], [737441.0, 317.9753723144531, NaN], [737445.0, 315.8204650878906, NaN], [737446.0, 316.94781494140625, NaN], [737447.0, 318.47418212890625, NaN], [737448.0, 317.55633544921875, NaN], [737451.0, 308.218505859375, NaN], [737452.0, 316.93780517578125, NaN], [737453.0, 323.5720520019531, NaN], [737454.0, 323.1031799316406, NaN], [737455.0, 308.7771911621094, NaN], [737458.0, 307.92919921875, NaN], [737459.0, 318.0950622558594, NaN], [737460.0, 320.6889343261719, NaN], [737461.0, 324.44000244140625, NaN], [737462.0, 320.0299987792969, NaN], [737465.0, 321.54998779296875, NaN], [737466.0, 319.6099853515625, NaN], [737467.0, 327.20001220703125, NaN], [737468.0, 324.8699951171875, NaN], [737469.0, 324.95001220703125, NaN], [737473.0, 319.0, NaN], [737474.0, 323.6199951171875, NaN], [737475.0, 320.29998779296875, NaN], [737476.0, 313.04998779296875, NaN], [737479.0, 298.17999267578125, NaN], [737480.0, 288.0799865722656, NaN], [737481.0, 292.6499938964844, NaN], [737482.0, 273.5199890136719, NaN], [737483.0, 273.3599853515625, NaN], [737486.0, 298.80999755859375, NaN], [737487.0, 289.32000732421875, NaN], [737488.0, 302.739990234375, NaN], [737489.0, 292.9200134277344, NaN], [737490.0, 289.0299987792969, NaN], [737493.0, 266.1700134277344, NaN], [737494.0, 285.3399963378906, NaN], [737495.0, 275.42999267578125, NaN], [737496.0, 248.22999572753906, NaN], [737497.0, 277.9700012207031, NaN], [737500.0, 242.2100067138672, NaN], [737501.0, 252.86000061035156, NaN], [737502.0, 246.6699981689453, NaN], [737503.0, 244.77999877929688, NaN], [737504.0, 229.24000549316406, NaN], [737507.0, 224.3699951171875, NaN], [737508.0, 246.8800048828125, NaN], [737509.0, 245.52000427246094, NaN], [737510.0, 258.44000244140625, NaN], [737511.0, 247.74000549316406, NaN], [737514.0, 254.80999755859375, NaN], [737515.0, 254.2899932861328, NaN], [737516.0, 240.91000366210938, NaN], [737517.0, 244.92999267578125, NaN], [737518.0, 241.41000366210938, NaN], [737521.0, 262.4700012207031, NaN], [737522.0, 259.42999267578125, NaN], [737523.0, 266.07000732421875, NaN], [737524.0, 267.989990234375, NaN], [737528.0, 273.25, NaN], [737529.0, 287.04998779296875, NaN], [737530.0, 284.42999267578125, NaN], [737531.0, 286.69000244140625, NaN], [737532.0, 282.79998779296875, NaN], [737535.0, 276.92999267578125, NaN], [737536.0, 268.3699951171875, NaN], [737537.0, 276.1000061035156, NaN], [737538.0, 275.0299987792969, NaN], [737539.0, 282.9700012207031, NaN], [737540.0, NaN, 291.12348619583685], [737541.0, NaN, 296.36242548481766], [737542.0, NaN, 286.435294207645], [737543.0, NaN, 288.9754164852677], [737544.0, NaN, 295.5094110474385], [737545.0, NaN, 294.6173329767993], [737546.0, NaN, 295.23213738581245], [737547.0, NaN, 293.3642227552776], [737548.0, NaN, 299.32494749968987], [737549.0, NaN, 293.0915668423607], [737550.0, NaN, 295.19268261319905], [737551.0, NaN, 297.9419031499804], [737552.0, NaN, 285.83438568162495], [737553.0, NaN, 295.04834806255093], [737554.0, NaN, 298.98414355625715], [737555.0, NaN, 298.95998054452906], [737556.0, NaN, 283.7887887212869], [737557.0, NaN, 291.2618895866961], [737558.0, NaN, 278.1456902291933], [737559.0, NaN, 267.554510942509], [737560.0, NaN, 246.08459450440995], [737561.0, NaN, 266.02928007436657], [737562.0, NaN, 281.58584995921007], [737563.0, NaN, 276.05339504048936], [737564.0, NaN, 281.7128126886406], [737565.0, NaN, 270.2454185864868], [737566.0, NaN, 266.62397949453737], [737567.0, NaN, 269.2274598488171], [737568.0, NaN, 268.772552324058], [737569.0, NaN, 261.5823486041111], [737570.0, NaN, 264.1429507555284], [737571.0, NaN, 264.3319724050036], [737572.0, NaN, 261.96279575849746], [737573.0, NaN, 253.77045839014013], [737574.0, NaN, 261.42803244873727], [737575.0, NaN, 272.7246950045172], [737576.0, NaN, 257.85423373630016], [737577.0, NaN, 253.31972386979345], [737578.0, NaN, 264.4212165955954], [737579.0, NaN, 258.59491076695497], [737580.0, NaN, 271.79148131352446], [737581.0, NaN, 267.77258962784356], [737582.0, NaN, 273.7973615626403], [737583.0, NaN, 276.1066414296602], [737584.0, NaN, 268.26835575101626], [737585.0, NaN, 275.407382626903], [737586.0, NaN, 269.21815901795935], [737587.0, NaN, 284.4097071756985], [737588.0, NaN, 271.10812421347924], [737589.0, NaN, 274.5634543685983], [737590.0, NaN, 279.5938943334074], [737591.0, NaN, 275.08602803976686], [737592.0, NaN, 281.7146001125222], [737593.0, NaN, 280.54381720362693], [737594.0, NaN, 277.26956359627724], [737595.0, NaN, 281.0185872200616], [737596.0, NaN, 285.68819391137623], [737597.0, NaN, 281.32970305430933], [737598.0, NaN, 283.86944550502875], [737599.0, NaN, 279.787666832789]], \"data02\": [[0.7011648745519714, 0.9503311258278145, 0.8951434878587198], [0.7728494623655915, 0.9503311258278145, 0.8951434878587198]], \"data03\": [[0.6939964157706093, 0.8601913171449596], [0.974910394265233, 0.8601913171449596], [0.982078853046595, 0.8601913171449596], [0.982078853046595, 0.8675496688741722], [0.982078853046595, 0.9742457689477557], [0.982078853046595, 0.9816041206769683], [0.974910394265233, 0.9816041206769683], [0.6939964157706093, 0.9816041206769683], [0.6868279569892474, 0.9816041206769683], [0.6868279569892474, 0.9742457689477557], [0.6868279569892474, 0.8675496688741722], [0.6868279569892474, 0.8601913171449596], [0.6939964157706093, 0.8601913171449596]]}, \"id\": \"el13353140246069095504\", \"plugins\": [{\"type\": \"reset\"}, {\"type\": \"zoom\", \"button\": true, \"enabled\": false}, {\"type\": \"boxzoom\", \"button\": true, \"enabled\": false}]});\n",
       "   }(mpld3);\n",
       "}else if(typeof define === \"function\" && define.amd){\n",
       "   // require.js is available: use it to load d3/mpld3\n",
       "   require.config({paths: {d3: \"https://mpld3.github.io/js/d3.v3.min\"}});\n",
       "   require([\"d3\"], function(d3){\n",
       "      window.d3 = d3;\n",
       "      mpld3_load_lib(\"https://mpld3.github.io/js/mpld3.v0.3.js\", function(){\n",
       "         \n",
       "         mpld3.draw_figure(\"fig_el133531402460690955045954494119\", {\"width\": 360.0, \"height\": 360.0, \"axes\": [{\"bbox\": [0.125, 0.125, 0.775, 0.755], \"xlim\": [737224.15, 737616.85], \"ylim\": [184.79582901000975, 333.9811637878418], \"xdomain\": [[2019, 5, 14, 3, 36, 0, 0.0], [2020, 6, 10, 20, 24, 0, 0.0]], \"ydomain\": [184.79582901000975, 333.9811637878418], \"xscale\": \"date\", \"yscale\": \"linear\", \"axes\": [{\"position\": \"bottom\", \"nticks\": 7, \"tickvalues\": null, \"tickformat\": null, \"scale\": \"linear\", \"fontsize\": 10.0, \"grid\": {\"gridOn\": false}, \"visible\": true}, {\"position\": \"left\", \"nticks\": 9, \"tickvalues\": null, \"tickformat\": null, \"scale\": \"linear\", \"fontsize\": 10.0, \"grid\": {\"gridOn\": false}, \"visible\": true}], \"axesbg\": \"#FFFFFF\", \"axesbgalpha\": null, \"zoomable\": true, \"id\": \"el13353140246069216080\", \"lines\": [{\"data\": \"data01\", \"xindex\": 0, \"yindex\": 1, \"coordinates\": \"data\", \"id\": \"el13353140246069638736\", \"color\": \"#4878CF\", \"linewidth\": 1.5, \"dasharray\": \"none\", \"alpha\": 1, \"zorder\": 2, \"drawstyle\": \"default\"}, {\"data\": \"data01\", \"xindex\": 0, \"yindex\": 2, \"coordinates\": \"data\", \"id\": \"el13353140246068887376\", \"color\": \"#6ACC65\", \"linewidth\": 1.5, \"dasharray\": \"none\", \"alpha\": 1, \"zorder\": 2, \"drawstyle\": \"default\"}, {\"data\": \"data02\", \"xindex\": 0, \"yindex\": 1, \"coordinates\": \"axes\", \"id\": \"el13353140246068967760\", \"color\": \"#4878CF\", \"linewidth\": 1.5, \"dasharray\": \"none\", \"alpha\": 1, \"zorder\": 2000002.0, \"drawstyle\": \"default\"}, {\"data\": \"data02\", \"xindex\": 0, \"yindex\": 2, \"coordinates\": \"axes\", \"id\": \"el13353140246068967696\", \"color\": \"#6ACC65\", \"linewidth\": 1.5, \"dasharray\": \"none\", \"alpha\": 1, \"zorder\": 2000002.0, \"drawstyle\": \"default\"}], \"paths\": [{\"data\": \"data03\", \"xindex\": 0, \"yindex\": 1, \"coordinates\": \"axes\", \"pathcodes\": [\"M\", \"L\", \"S\", \"L\", \"S\", \"L\", \"S\", \"L\", \"S\", \"Z\"], \"id\": \"el13353140246068887184\", \"dasharray\": \"none\", \"alpha\": 0.8, \"facecolor\": \"#FFFFFF\", \"edgecolor\": \"#CCCCCC\", \"edgewidth\": 1.0, \"zorder\": 1999999.0}], \"markers\": [], \"texts\": [{\"text\": \"Adj Close\", \"position\": [0.8015232974910395, 0.9374540103016924], \"coordinates\": \"axes\", \"h_anchor\": \"start\", \"v_baseline\": \"auto\", \"rotation\": -0.0, \"fontsize\": 10.0, \"color\": \"#000000\", \"alpha\": 1, \"zorder\": 2000003.0, \"id\": \"el13353140246068967184\"}, {\"text\": \"Forecast\", \"position\": [0.8015232974910395, 0.8822663723325976], \"coordinates\": \"axes\", \"h_anchor\": \"start\", \"v_baseline\": \"auto\", \"rotation\": -0.0, \"fontsize\": 10.0, \"color\": \"#000000\", \"alpha\": 1, \"zorder\": 2000003.0, \"id\": \"el13353140246068969040\"}], \"collections\": [], \"images\": [], \"sharex\": [], \"sharey\": []}], \"data\": {\"data01\": [[737242.0, 200.88136291503906, NaN], [737243.0, 202.54605102539062, NaN], [737245.0, 202.36767578125, NaN], [737248.0, 198.19607543945312, NaN], [737249.0, 199.40496826171875, NaN], [737250.0, 201.37681579589844, NaN], [737251.0, 199.91030883789062, NaN], [737252.0, 201.44618225097656, NaN], [737255.0, 203.33876037597656, NaN], [737256.0, 202.63522338867188, NaN], [737257.0, 201.49571228027344, NaN], [737258.0, 203.78465270996094, NaN], [737259.0, 200.74264526367188, NaN], [737262.0, 205.33042907714844, NaN], [737263.0, 206.93563842773438, NaN], [737264.0, 206.7672119140625, NaN], [737265.0, 205.13226318359375, NaN], [737266.0, 205.84568786621094, NaN], [737269.0, 207.7679901123047, NaN], [737270.0, 206.87619018554688, NaN], [737271.0, 211.0973663330078, NaN], [737272.0, 206.5293731689453, NaN], [737273.0, 202.15960693359375, NaN], [737276.0, 191.5769805908203, NaN], [737277.0, 195.20361328125, NaN], [737278.0, 197.22500610351562, NaN], [737279.0, 201.57498168945312, NaN], [737280.0, 199.91392517089844, NaN], [737283.0, 199.40664672851562, NaN], [737284.0, 207.85121154785156, NaN], [737285.0, 201.6645050048828, NaN], [737286.0, 200.659912109375, NaN], [737287.0, 205.39442443847656, NaN], [737290.0, 209.22381591796875, NaN], [737291.0, 209.2337646484375, NaN], [737292.0, 211.50155639648438, NaN], [737293.0, 211.32252502441406, NaN], [737294.0, 201.5550994873047, NaN], [737297.0, 205.3844757080078, NaN], [737298.0, 203.06695556640625, NaN], [737299.0, 204.42962646484375, NaN], [737300.0, 207.89097595214844, NaN], [737301.0, 207.6224365234375, NaN], [737305.0, 204.59869384765625, NaN], [737306.0, 208.07003784179688, NaN], [737307.0, 212.13812255859375, NaN], [737308.0, 212.11822509765625, NaN], [737311.0, 213.0233612060547, NaN], [737312.0, 215.53981018066406, NaN], [737313.0, 222.39292907714844, NaN], [737314.0, 221.89559936523438, NaN], [737315.0, 217.57884216308594, NaN], [737318.0, 218.72268676757812, NaN], [737319.0, 219.51840209960938, NaN], [737320.0, 221.57733154296875, NaN], [737321.0, 219.7770233154297, NaN], [737322.0, 216.5642852783203, NaN], [737325.0, 217.5489959716797, NaN], [737326.0, 216.51455688476562, NaN], [737327.0, 219.8466339111328, NaN], [737328.0, 218.71273803710938, NaN], [737329.0, 217.6484832763672, NaN], [737332.0, 222.77088928222656, NaN], [737333.0, 223.3875732421875, NaN], [737334.0, 217.7877197265625, NaN], [737335.0, 219.63775634765625, NaN], [737336.0, 225.79461669921875, NaN], [737339.0, 225.84434509277344, NaN], [737340.0, 223.19859313964844, NaN], [737341.0, 225.81451416015625, NaN], [737342.0, 228.85812377929688, NaN], [737343.0, 234.9453582763672, NaN], [737346.0, 234.607177734375, NaN], [737347.0, 234.0601348876953, NaN], [737348.0, 233.11520385742188, NaN], [737349.0, 234.0203399658203, NaN], [737350.0, 235.14430236816406, NaN], [737353.0, 239.2223358154297, NaN], [737354.0, 238.67529296875, NaN], [737355.0, 241.87803649902344, NaN], [737356.0, 242.27589416503906, NaN], [737357.0, 245.2598419189453, NaN], [737360.0, 247.71661376953125, NaN], [737361.0, 241.98744201660156, NaN], [737362.0, 241.95761108398438, NaN], [737363.0, 247.42816162109375, NaN], [737364.0, 254.45037841796875, NaN], [737367.0, 256.1213684082031, NaN], [737368.0, 255.7533721923828, NaN], [737369.0, 255.86276245117188, NaN], [737370.0, 258.81573486328125, NaN], [737371.0, 259.5240783691406, NaN], [737374.0, 261.5791931152344, NaN], [737375.0, 261.3397521972656, NaN], [737376.0, 263.84381103515625, NaN], [737377.0, 262.0181579589844, NaN], [737378.0, 265.1307678222656, NaN], [737381.0, 266.46759033203125, NaN], [737382.0, 265.6595153808594, NaN], [737383.0, 262.5668640136719, NaN], [737384.0, 261.3896484375, NaN], [737385.0, 261.1601867675781, NaN], [737388.0, 265.73931884765625, NaN], [737389.0, 263.66424560546875, NaN], [737390.0, 267.2058410644531, NaN], [737392.0, 266.61724853515625, NaN], [737395.0, 263.5345458984375, NaN], [737396.0, 258.8357238769531, NaN], [737397.0, 261.1202697753906, NaN], [737398.0, 264.951171875, NaN], [737399.0, 270.06903076171875, NaN], [737402.0, 266.28802490234375, NaN], [737403.0, 267.8443298339844, NaN], [737404.0, 270.12890625, NaN], [737405.0, 270.8172607421875, NaN], [737406.0, 274.49853515625, NaN], [737409.0, 279.1973571777344, NaN], [737410.0, 279.74609375, NaN], [737411.0, 279.0776672363281, NaN], [737412.0, 279.35699462890625, NaN], [737413.0, 278.77838134765625, NaN], [737416.0, 283.32757568359375, NaN], [737417.0, 283.596923828125, NaN], [737419.0, 289.2236022949219, NaN], [737420.0, 289.11383056640625, NaN], [737423.0, 290.82977294921875, NaN], [737424.0, 292.9547119140625, NaN], [737426.0, 299.6388854980469, NaN], [737427.0, 296.72576904296875, NaN], [737430.0, 299.09014892578125, NaN], [737431.0, 297.68353271484375, NaN], [737432.0, 302.4721374511719, NaN], [737433.0, 308.89691162109375, NaN], [737434.0, 309.59521484375, NaN], [737437.0, 316.20953369140625, NaN], [737438.0, 311.9396667480469, NaN], [737439.0, 310.60284423828125, NaN], [737440.0, 314.49359130859375, NaN], [737441.0, 317.9753723144531, NaN], [737445.0, 315.8204650878906, NaN], [737446.0, 316.94781494140625, NaN], [737447.0, 318.47418212890625, NaN], [737448.0, 317.55633544921875, NaN], [737451.0, 308.218505859375, NaN], [737452.0, 316.93780517578125, NaN], [737453.0, 323.5720520019531, NaN], [737454.0, 323.1031799316406, NaN], [737455.0, 308.7771911621094, NaN], [737458.0, 307.92919921875, NaN], [737459.0, 318.0950622558594, NaN], [737460.0, 320.6889343261719, NaN], [737461.0, 324.44000244140625, NaN], [737462.0, 320.0299987792969, NaN], [737465.0, 321.54998779296875, NaN], [737466.0, 319.6099853515625, NaN], [737467.0, 327.20001220703125, NaN], [737468.0, 324.8699951171875, NaN], [737469.0, 324.95001220703125, NaN], [737473.0, 319.0, NaN], [737474.0, 323.6199951171875, NaN], [737475.0, 320.29998779296875, NaN], [737476.0, 313.04998779296875, NaN], [737479.0, 298.17999267578125, NaN], [737480.0, 288.0799865722656, NaN], [737481.0, 292.6499938964844, NaN], [737482.0, 273.5199890136719, NaN], [737483.0, 273.3599853515625, NaN], [737486.0, 298.80999755859375, NaN], [737487.0, 289.32000732421875, NaN], [737488.0, 302.739990234375, NaN], [737489.0, 292.9200134277344, NaN], [737490.0, 289.0299987792969, NaN], [737493.0, 266.1700134277344, NaN], [737494.0, 285.3399963378906, NaN], [737495.0, 275.42999267578125, NaN], [737496.0, 248.22999572753906, NaN], [737497.0, 277.9700012207031, NaN], [737500.0, 242.2100067138672, NaN], [737501.0, 252.86000061035156, NaN], [737502.0, 246.6699981689453, NaN], [737503.0, 244.77999877929688, NaN], [737504.0, 229.24000549316406, NaN], [737507.0, 224.3699951171875, NaN], [737508.0, 246.8800048828125, NaN], [737509.0, 245.52000427246094, NaN], [737510.0, 258.44000244140625, NaN], [737511.0, 247.74000549316406, NaN], [737514.0, 254.80999755859375, NaN], [737515.0, 254.2899932861328, NaN], [737516.0, 240.91000366210938, NaN], [737517.0, 244.92999267578125, NaN], [737518.0, 241.41000366210938, NaN], [737521.0, 262.4700012207031, NaN], [737522.0, 259.42999267578125, NaN], [737523.0, 266.07000732421875, NaN], [737524.0, 267.989990234375, NaN], [737528.0, 273.25, NaN], [737529.0, 287.04998779296875, NaN], [737530.0, 284.42999267578125, NaN], [737531.0, 286.69000244140625, NaN], [737532.0, 282.79998779296875, NaN], [737535.0, 276.92999267578125, NaN], [737536.0, 268.3699951171875, NaN], [737537.0, 276.1000061035156, NaN], [737538.0, 275.0299987792969, NaN], [737539.0, 282.9700012207031, NaN], [737540.0, NaN, 291.12348619583685], [737541.0, NaN, 296.36242548481766], [737542.0, NaN, 286.435294207645], [737543.0, NaN, 288.9754164852677], [737544.0, NaN, 295.5094110474385], [737545.0, NaN, 294.6173329767993], [737546.0, NaN, 295.23213738581245], [737547.0, NaN, 293.3642227552776], [737548.0, NaN, 299.32494749968987], [737549.0, NaN, 293.0915668423607], [737550.0, NaN, 295.19268261319905], [737551.0, NaN, 297.9419031499804], [737552.0, NaN, 285.83438568162495], [737553.0, NaN, 295.04834806255093], [737554.0, NaN, 298.98414355625715], [737555.0, NaN, 298.95998054452906], [737556.0, NaN, 283.7887887212869], [737557.0, NaN, 291.2618895866961], [737558.0, NaN, 278.1456902291933], [737559.0, NaN, 267.554510942509], [737560.0, NaN, 246.08459450440995], [737561.0, NaN, 266.02928007436657], [737562.0, NaN, 281.58584995921007], [737563.0, NaN, 276.05339504048936], [737564.0, NaN, 281.7128126886406], [737565.0, NaN, 270.2454185864868], [737566.0, NaN, 266.62397949453737], [737567.0, NaN, 269.2274598488171], [737568.0, NaN, 268.772552324058], [737569.0, NaN, 261.5823486041111], [737570.0, NaN, 264.1429507555284], [737571.0, NaN, 264.3319724050036], [737572.0, NaN, 261.96279575849746], [737573.0, NaN, 253.77045839014013], [737574.0, NaN, 261.42803244873727], [737575.0, NaN, 272.7246950045172], [737576.0, NaN, 257.85423373630016], [737577.0, NaN, 253.31972386979345], [737578.0, NaN, 264.4212165955954], [737579.0, NaN, 258.59491076695497], [737580.0, NaN, 271.79148131352446], [737581.0, NaN, 267.77258962784356], [737582.0, NaN, 273.7973615626403], [737583.0, NaN, 276.1066414296602], [737584.0, NaN, 268.26835575101626], [737585.0, NaN, 275.407382626903], [737586.0, NaN, 269.21815901795935], [737587.0, NaN, 284.4097071756985], [737588.0, NaN, 271.10812421347924], [737589.0, NaN, 274.5634543685983], [737590.0, NaN, 279.5938943334074], [737591.0, NaN, 275.08602803976686], [737592.0, NaN, 281.7146001125222], [737593.0, NaN, 280.54381720362693], [737594.0, NaN, 277.26956359627724], [737595.0, NaN, 281.0185872200616], [737596.0, NaN, 285.68819391137623], [737597.0, NaN, 281.32970305430933], [737598.0, NaN, 283.86944550502875], [737599.0, NaN, 279.787666832789]], \"data02\": [[0.7011648745519714, 0.9503311258278145, 0.8951434878587198], [0.7728494623655915, 0.9503311258278145, 0.8951434878587198]], \"data03\": [[0.6939964157706093, 0.8601913171449596], [0.974910394265233, 0.8601913171449596], [0.982078853046595, 0.8601913171449596], [0.982078853046595, 0.8675496688741722], [0.982078853046595, 0.9742457689477557], [0.982078853046595, 0.9816041206769683], [0.974910394265233, 0.9816041206769683], [0.6939964157706093, 0.9816041206769683], [0.6868279569892474, 0.9816041206769683], [0.6868279569892474, 0.9742457689477557], [0.6868279569892474, 0.8675496688741722], [0.6868279569892474, 0.8601913171449596], [0.6939964157706093, 0.8601913171449596]]}, \"id\": \"el13353140246069095504\", \"plugins\": [{\"type\": \"reset\"}, {\"type\": \"zoom\", \"button\": true, \"enabled\": false}, {\"type\": \"boxzoom\", \"button\": true, \"enabled\": false}]});\n",
       "      });\n",
       "    });\n",
       "}else{\n",
       "    // require.js not available: dynamically load d3 & mpld3\n",
       "    mpld3_load_lib(\"https://mpld3.github.io/js/d3.v3.min.js\", function(){\n",
       "         mpld3_load_lib(\"https://mpld3.github.io/js/mpld3.v0.3.js\", function(){\n",
       "                 \n",
       "                 mpld3.draw_figure(\"fig_el133531402460690955045954494119\", {\"width\": 360.0, \"height\": 360.0, \"axes\": [{\"bbox\": [0.125, 0.125, 0.775, 0.755], \"xlim\": [737224.15, 737616.85], \"ylim\": [184.79582901000975, 333.9811637878418], \"xdomain\": [[2019, 5, 14, 3, 36, 0, 0.0], [2020, 6, 10, 20, 24, 0, 0.0]], \"ydomain\": [184.79582901000975, 333.9811637878418], \"xscale\": \"date\", \"yscale\": \"linear\", \"axes\": [{\"position\": \"bottom\", \"nticks\": 7, \"tickvalues\": null, \"tickformat\": null, \"scale\": \"linear\", \"fontsize\": 10.0, \"grid\": {\"gridOn\": false}, \"visible\": true}, {\"position\": \"left\", \"nticks\": 9, \"tickvalues\": null, \"tickformat\": null, \"scale\": \"linear\", \"fontsize\": 10.0, \"grid\": {\"gridOn\": false}, \"visible\": true}], \"axesbg\": \"#FFFFFF\", \"axesbgalpha\": null, \"zoomable\": true, \"id\": \"el13353140246069216080\", \"lines\": [{\"data\": \"data01\", \"xindex\": 0, \"yindex\": 1, \"coordinates\": \"data\", \"id\": \"el13353140246069638736\", \"color\": \"#4878CF\", \"linewidth\": 1.5, \"dasharray\": \"none\", \"alpha\": 1, \"zorder\": 2, \"drawstyle\": \"default\"}, {\"data\": \"data01\", \"xindex\": 0, \"yindex\": 2, \"coordinates\": \"data\", \"id\": \"el13353140246068887376\", \"color\": \"#6ACC65\", \"linewidth\": 1.5, \"dasharray\": \"none\", \"alpha\": 1, \"zorder\": 2, \"drawstyle\": \"default\"}, {\"data\": \"data02\", \"xindex\": 0, \"yindex\": 1, \"coordinates\": \"axes\", \"id\": \"el13353140246068967760\", \"color\": \"#4878CF\", \"linewidth\": 1.5, \"dasharray\": \"none\", \"alpha\": 1, \"zorder\": 2000002.0, \"drawstyle\": \"default\"}, {\"data\": \"data02\", \"xindex\": 0, \"yindex\": 2, \"coordinates\": \"axes\", \"id\": \"el13353140246068967696\", \"color\": \"#6ACC65\", \"linewidth\": 1.5, \"dasharray\": \"none\", \"alpha\": 1, \"zorder\": 2000002.0, \"drawstyle\": \"default\"}], \"paths\": [{\"data\": \"data03\", \"xindex\": 0, \"yindex\": 1, \"coordinates\": \"axes\", \"pathcodes\": [\"M\", \"L\", \"S\", \"L\", \"S\", \"L\", \"S\", \"L\", \"S\", \"Z\"], \"id\": \"el13353140246068887184\", \"dasharray\": \"none\", \"alpha\": 0.8, \"facecolor\": \"#FFFFFF\", \"edgecolor\": \"#CCCCCC\", \"edgewidth\": 1.0, \"zorder\": 1999999.0}], \"markers\": [], \"texts\": [{\"text\": \"Adj Close\", \"position\": [0.8015232974910395, 0.9374540103016924], \"coordinates\": \"axes\", \"h_anchor\": \"start\", \"v_baseline\": \"auto\", \"rotation\": -0.0, \"fontsize\": 10.0, \"color\": \"#000000\", \"alpha\": 1, \"zorder\": 2000003.0, \"id\": \"el13353140246068967184\"}, {\"text\": \"Forecast\", \"position\": [0.8015232974910395, 0.8822663723325976], \"coordinates\": \"axes\", \"h_anchor\": \"start\", \"v_baseline\": \"auto\", \"rotation\": -0.0, \"fontsize\": 10.0, \"color\": \"#000000\", \"alpha\": 1, \"zorder\": 2000003.0, \"id\": \"el13353140246068969040\"}], \"collections\": [], \"images\": [], \"sharex\": [], \"sharey\": []}], \"data\": {\"data01\": [[737242.0, 200.88136291503906, NaN], [737243.0, 202.54605102539062, NaN], [737245.0, 202.36767578125, NaN], [737248.0, 198.19607543945312, NaN], [737249.0, 199.40496826171875, NaN], [737250.0, 201.37681579589844, NaN], [737251.0, 199.91030883789062, NaN], [737252.0, 201.44618225097656, NaN], [737255.0, 203.33876037597656, NaN], [737256.0, 202.63522338867188, NaN], [737257.0, 201.49571228027344, NaN], [737258.0, 203.78465270996094, NaN], [737259.0, 200.74264526367188, NaN], [737262.0, 205.33042907714844, NaN], [737263.0, 206.93563842773438, NaN], [737264.0, 206.7672119140625, NaN], [737265.0, 205.13226318359375, NaN], [737266.0, 205.84568786621094, NaN], [737269.0, 207.7679901123047, NaN], [737270.0, 206.87619018554688, NaN], [737271.0, 211.0973663330078, NaN], [737272.0, 206.5293731689453, NaN], [737273.0, 202.15960693359375, NaN], [737276.0, 191.5769805908203, NaN], [737277.0, 195.20361328125, NaN], [737278.0, 197.22500610351562, NaN], [737279.0, 201.57498168945312, NaN], [737280.0, 199.91392517089844, NaN], [737283.0, 199.40664672851562, NaN], [737284.0, 207.85121154785156, NaN], [737285.0, 201.6645050048828, NaN], [737286.0, 200.659912109375, NaN], [737287.0, 205.39442443847656, NaN], [737290.0, 209.22381591796875, NaN], [737291.0, 209.2337646484375, NaN], [737292.0, 211.50155639648438, NaN], [737293.0, 211.32252502441406, NaN], [737294.0, 201.5550994873047, NaN], [737297.0, 205.3844757080078, NaN], [737298.0, 203.06695556640625, NaN], [737299.0, 204.42962646484375, NaN], [737300.0, 207.89097595214844, NaN], [737301.0, 207.6224365234375, NaN], [737305.0, 204.59869384765625, NaN], [737306.0, 208.07003784179688, NaN], [737307.0, 212.13812255859375, NaN], [737308.0, 212.11822509765625, NaN], [737311.0, 213.0233612060547, NaN], [737312.0, 215.53981018066406, NaN], [737313.0, 222.39292907714844, NaN], [737314.0, 221.89559936523438, NaN], [737315.0, 217.57884216308594, NaN], [737318.0, 218.72268676757812, NaN], [737319.0, 219.51840209960938, NaN], [737320.0, 221.57733154296875, NaN], [737321.0, 219.7770233154297, NaN], [737322.0, 216.5642852783203, NaN], [737325.0, 217.5489959716797, NaN], [737326.0, 216.51455688476562, NaN], [737327.0, 219.8466339111328, NaN], [737328.0, 218.71273803710938, NaN], [737329.0, 217.6484832763672, NaN], [737332.0, 222.77088928222656, NaN], [737333.0, 223.3875732421875, NaN], [737334.0, 217.7877197265625, NaN], [737335.0, 219.63775634765625, NaN], [737336.0, 225.79461669921875, NaN], [737339.0, 225.84434509277344, NaN], [737340.0, 223.19859313964844, NaN], [737341.0, 225.81451416015625, NaN], [737342.0, 228.85812377929688, NaN], [737343.0, 234.9453582763672, NaN], [737346.0, 234.607177734375, NaN], [737347.0, 234.0601348876953, NaN], [737348.0, 233.11520385742188, NaN], [737349.0, 234.0203399658203, NaN], [737350.0, 235.14430236816406, NaN], [737353.0, 239.2223358154297, NaN], [737354.0, 238.67529296875, NaN], [737355.0, 241.87803649902344, NaN], [737356.0, 242.27589416503906, NaN], [737357.0, 245.2598419189453, NaN], [737360.0, 247.71661376953125, NaN], [737361.0, 241.98744201660156, NaN], [737362.0, 241.95761108398438, NaN], [737363.0, 247.42816162109375, NaN], [737364.0, 254.45037841796875, NaN], [737367.0, 256.1213684082031, NaN], [737368.0, 255.7533721923828, NaN], [737369.0, 255.86276245117188, NaN], [737370.0, 258.81573486328125, NaN], [737371.0, 259.5240783691406, NaN], [737374.0, 261.5791931152344, NaN], [737375.0, 261.3397521972656, NaN], [737376.0, 263.84381103515625, NaN], [737377.0, 262.0181579589844, NaN], [737378.0, 265.1307678222656, NaN], [737381.0, 266.46759033203125, NaN], [737382.0, 265.6595153808594, NaN], [737383.0, 262.5668640136719, NaN], [737384.0, 261.3896484375, NaN], [737385.0, 261.1601867675781, NaN], [737388.0, 265.73931884765625, NaN], [737389.0, 263.66424560546875, NaN], [737390.0, 267.2058410644531, NaN], [737392.0, 266.61724853515625, NaN], [737395.0, 263.5345458984375, NaN], [737396.0, 258.8357238769531, NaN], [737397.0, 261.1202697753906, NaN], [737398.0, 264.951171875, NaN], [737399.0, 270.06903076171875, NaN], [737402.0, 266.28802490234375, NaN], [737403.0, 267.8443298339844, NaN], [737404.0, 270.12890625, NaN], [737405.0, 270.8172607421875, NaN], [737406.0, 274.49853515625, NaN], [737409.0, 279.1973571777344, NaN], [737410.0, 279.74609375, NaN], [737411.0, 279.0776672363281, NaN], [737412.0, 279.35699462890625, NaN], [737413.0, 278.77838134765625, NaN], [737416.0, 283.32757568359375, NaN], [737417.0, 283.596923828125, NaN], [737419.0, 289.2236022949219, NaN], [737420.0, 289.11383056640625, NaN], [737423.0, 290.82977294921875, NaN], [737424.0, 292.9547119140625, NaN], [737426.0, 299.6388854980469, NaN], [737427.0, 296.72576904296875, NaN], [737430.0, 299.09014892578125, NaN], [737431.0, 297.68353271484375, NaN], [737432.0, 302.4721374511719, NaN], [737433.0, 308.89691162109375, NaN], [737434.0, 309.59521484375, NaN], [737437.0, 316.20953369140625, NaN], [737438.0, 311.9396667480469, NaN], [737439.0, 310.60284423828125, NaN], [737440.0, 314.49359130859375, NaN], [737441.0, 317.9753723144531, NaN], [737445.0, 315.8204650878906, NaN], [737446.0, 316.94781494140625, NaN], [737447.0, 318.47418212890625, NaN], [737448.0, 317.55633544921875, NaN], [737451.0, 308.218505859375, NaN], [737452.0, 316.93780517578125, NaN], [737453.0, 323.5720520019531, NaN], [737454.0, 323.1031799316406, NaN], [737455.0, 308.7771911621094, NaN], [737458.0, 307.92919921875, NaN], [737459.0, 318.0950622558594, NaN], [737460.0, 320.6889343261719, NaN], [737461.0, 324.44000244140625, NaN], [737462.0, 320.0299987792969, NaN], [737465.0, 321.54998779296875, NaN], [737466.0, 319.6099853515625, NaN], [737467.0, 327.20001220703125, NaN], [737468.0, 324.8699951171875, NaN], [737469.0, 324.95001220703125, NaN], [737473.0, 319.0, NaN], [737474.0, 323.6199951171875, NaN], [737475.0, 320.29998779296875, NaN], [737476.0, 313.04998779296875, NaN], [737479.0, 298.17999267578125, NaN], [737480.0, 288.0799865722656, NaN], [737481.0, 292.6499938964844, NaN], [737482.0, 273.5199890136719, NaN], [737483.0, 273.3599853515625, NaN], [737486.0, 298.80999755859375, NaN], [737487.0, 289.32000732421875, NaN], [737488.0, 302.739990234375, NaN], [737489.0, 292.9200134277344, NaN], [737490.0, 289.0299987792969, NaN], [737493.0, 266.1700134277344, NaN], [737494.0, 285.3399963378906, NaN], [737495.0, 275.42999267578125, NaN], [737496.0, 248.22999572753906, NaN], [737497.0, 277.9700012207031, NaN], [737500.0, 242.2100067138672, NaN], [737501.0, 252.86000061035156, NaN], [737502.0, 246.6699981689453, NaN], [737503.0, 244.77999877929688, NaN], [737504.0, 229.24000549316406, NaN], [737507.0, 224.3699951171875, NaN], [737508.0, 246.8800048828125, NaN], [737509.0, 245.52000427246094, NaN], [737510.0, 258.44000244140625, NaN], [737511.0, 247.74000549316406, NaN], [737514.0, 254.80999755859375, NaN], [737515.0, 254.2899932861328, NaN], [737516.0, 240.91000366210938, NaN], [737517.0, 244.92999267578125, NaN], [737518.0, 241.41000366210938, NaN], [737521.0, 262.4700012207031, NaN], [737522.0, 259.42999267578125, NaN], [737523.0, 266.07000732421875, NaN], [737524.0, 267.989990234375, NaN], [737528.0, 273.25, NaN], [737529.0, 287.04998779296875, NaN], [737530.0, 284.42999267578125, NaN], [737531.0, 286.69000244140625, NaN], [737532.0, 282.79998779296875, NaN], [737535.0, 276.92999267578125, NaN], [737536.0, 268.3699951171875, NaN], [737537.0, 276.1000061035156, NaN], [737538.0, 275.0299987792969, NaN], [737539.0, 282.9700012207031, NaN], [737540.0, NaN, 291.12348619583685], [737541.0, NaN, 296.36242548481766], [737542.0, NaN, 286.435294207645], [737543.0, NaN, 288.9754164852677], [737544.0, NaN, 295.5094110474385], [737545.0, NaN, 294.6173329767993], [737546.0, NaN, 295.23213738581245], [737547.0, NaN, 293.3642227552776], [737548.0, NaN, 299.32494749968987], [737549.0, NaN, 293.0915668423607], [737550.0, NaN, 295.19268261319905], [737551.0, NaN, 297.9419031499804], [737552.0, NaN, 285.83438568162495], [737553.0, NaN, 295.04834806255093], [737554.0, NaN, 298.98414355625715], [737555.0, NaN, 298.95998054452906], [737556.0, NaN, 283.7887887212869], [737557.0, NaN, 291.2618895866961], [737558.0, NaN, 278.1456902291933], [737559.0, NaN, 267.554510942509], [737560.0, NaN, 246.08459450440995], [737561.0, NaN, 266.02928007436657], [737562.0, NaN, 281.58584995921007], [737563.0, NaN, 276.05339504048936], [737564.0, NaN, 281.7128126886406], [737565.0, NaN, 270.2454185864868], [737566.0, NaN, 266.62397949453737], [737567.0, NaN, 269.2274598488171], [737568.0, NaN, 268.772552324058], [737569.0, NaN, 261.5823486041111], [737570.0, NaN, 264.1429507555284], [737571.0, NaN, 264.3319724050036], [737572.0, NaN, 261.96279575849746], [737573.0, NaN, 253.77045839014013], [737574.0, NaN, 261.42803244873727], [737575.0, NaN, 272.7246950045172], [737576.0, NaN, 257.85423373630016], [737577.0, NaN, 253.31972386979345], [737578.0, NaN, 264.4212165955954], [737579.0, NaN, 258.59491076695497], [737580.0, NaN, 271.79148131352446], [737581.0, NaN, 267.77258962784356], [737582.0, NaN, 273.7973615626403], [737583.0, NaN, 276.1066414296602], [737584.0, NaN, 268.26835575101626], [737585.0, NaN, 275.407382626903], [737586.0, NaN, 269.21815901795935], [737587.0, NaN, 284.4097071756985], [737588.0, NaN, 271.10812421347924], [737589.0, NaN, 274.5634543685983], [737590.0, NaN, 279.5938943334074], [737591.0, NaN, 275.08602803976686], [737592.0, NaN, 281.7146001125222], [737593.0, NaN, 280.54381720362693], [737594.0, NaN, 277.26956359627724], [737595.0, NaN, 281.0185872200616], [737596.0, NaN, 285.68819391137623], [737597.0, NaN, 281.32970305430933], [737598.0, NaN, 283.86944550502875], [737599.0, NaN, 279.787666832789]], \"data02\": [[0.7011648745519714, 0.9503311258278145, 0.8951434878587198], [0.7728494623655915, 0.9503311258278145, 0.8951434878587198]], \"data03\": [[0.6939964157706093, 0.8601913171449596], [0.974910394265233, 0.8601913171449596], [0.982078853046595, 0.8601913171449596], [0.982078853046595, 0.8675496688741722], [0.982078853046595, 0.9742457689477557], [0.982078853046595, 0.9816041206769683], [0.974910394265233, 0.9816041206769683], [0.6939964157706093, 0.9816041206769683], [0.6868279569892474, 0.9816041206769683], [0.6868279569892474, 0.9742457689477557], [0.6868279569892474, 0.8675496688741722], [0.6868279569892474, 0.8601913171449596], [0.6939964157706093, 0.8601913171449596]]}, \"id\": \"el13353140246069095504\", \"plugins\": [{\"type\": \"reset\"}, {\"type\": \"zoom\", \"button\": true, \"enabled\": false}, {\"type\": \"boxzoom\", \"button\": true, \"enabled\": false}]});\n",
       "            })\n",
       "         });\n",
       "}\n",
       "</script>"
      ],
      "text/plain": [
       "<IPython.core.display.HTML object>"
      ]
     },
     "execution_count": 51,
     "metadata": {},
     "output_type": "execute_result"
    }
   ],
   "source": [
    "fig, ax = plt.subplots(figsize=(5,5))\n",
    "ax.plot(dfreg['Adj Close'].index, dfreg['Adj Close'], label=\"Adj Close\")\n",
    "ax.plot(dfreg['Forecast'].index, dfreg['Forecast'], label=\"Forecast\")\n",
    "ax.legend()\n",
    "html_text = mpld3.fig_to_html(fig)\n",
    "mpld3.display()"
   ]
  },
  {
   "cell_type": "code",
   "execution_count": null,
   "metadata": {},
   "outputs": [],
   "source": [
    "html_text"
   ]
  },
  {
   "cell_type": "markdown",
   "metadata": {},
   "source": []
  }
 ],
 "metadata": {
  "kernelspec": {
   "display_name": "Python 3",
   "language": "python",
   "name": "python3"
  },
  "language_info": {
   "codemirror_mode": {
    "name": "ipython",
    "version": 3
   },
   "file_extension": ".py",
   "mimetype": "text/x-python",
   "name": "python",
   "nbconvert_exporter": "python",
   "pygments_lexer": "ipython3",
   "version": "3.7.4"
  }
 },
 "nbformat": 4,
 "nbformat_minor": 2
}
